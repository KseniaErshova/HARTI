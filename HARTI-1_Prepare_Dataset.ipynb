{
 "cells": [
  {
   "cell_type": "code",
   "execution_count": 1,
   "metadata": {},
   "outputs": [
    {
     "name": "stderr",
     "output_type": "stream",
     "text": [
      "/usr/local/lib/python3.7/site-packages/lightgbm/__init__.py:48: UserWarning: Starting from version 2.2.1, the library file in distribution wheels for macOS is built by the Apple Clang (Xcode_8.3.3) compiler.\n",
      "This means that in case of installing LightGBM from PyPI via the ``pip install lightgbm`` command, you don't need to install the gcc compiler anymore.\n",
      "Instead of that, you need to install the OpenMP library, which is required for running LightGBM on the system with the Apple Clang compiler.\n",
      "You can install the OpenMP library by the following command: ``brew install libomp``.\n",
      "  \"You can install the OpenMP library by the following command: ``brew install libomp``.\", UserWarning)\n"
     ]
    }
   ],
   "source": [
    "# Load libraries and functions\n",
    "%load_ext autoreload\n",
    "%autoreload 2\n",
    "%matplotlib inline\n",
    "RANDOM_STATE = 42  # Pseudo-random state\n",
    "\n",
    "from utils import *\n",
    "sns.set_palette(\"tab10\") # Default seaborn theme"
   ]
  },
  {
   "cell_type": "markdown",
   "metadata": {},
   "source": [
    "# 1. Upload main data set"
   ]
  },
  {
   "cell_type": "code",
   "execution_count": 2,
   "metadata": {},
   "outputs": [
    {
     "name": "stdout",
     "output_type": "stream",
     "text": [
      "Loading...  ./data/VAE_Data_Main_0821_1338.pkl\n",
      "Done\n"
     ]
    }
   ],
   "source": [
    "# Upload dataset\n",
    "fn_vae_data = glob.glob('./data/VAE*.pkl')\n",
    "latest_fn_vae_data = max(fn_vae_data, key=os.path.getctime)\n",
    "\n",
    "print(\"Loading... \",latest_fn_vae_data)\n",
    "with open(latest_fn_vae_data, \"rb\") as f:\n",
    "    vae_data_main = pickle.load(f)\n",
    "print(\"Done\")\n"
   ]
  },
  {
   "cell_type": "markdown",
   "metadata": {},
   "source": [
    "# 2. Remove patients based on exclusion criteria"
   ]
  },
  {
   "cell_type": "code",
   "execution_count": 3,
   "metadata": {},
   "outputs": [
    {
     "name": "stdout",
     "output_type": "stream",
     "text": [
      "48 h. Number of patients before:  2918\n",
      "48 h. Number of ICU admissions before:  3231\n",
      "48 h. Number of patients after:  2912\n",
      "48 h. Number of ICU admissions after:  3216\n"
     ]
    }
   ],
   "source": [
    "# Remove patients who were monitored for less than 48 hours\n",
    "\n",
    "print('48 h. Number of patients before: ', len(vae_data_main.ID.unique()))\n",
    "print(\"48 h. Number of ICU admissions before: \", len(vae_data_main.ID_subid.unique()))\n",
    "\n",
    "df_tmp = vae_data_main.copy()\n",
    "tmp = vae_data_main.groupby('ID_subid').count().date == 1\n",
    "ids_w_only_one_row = tmp[tmp == True].index\n",
    "\n",
    "vae_data_main = vae_data_main.loc[\n",
    "    ~((vae_data_main.day_in_icu_max <=1) & vae_data_main.ID_subid.isin(ids_w_only_one_row))]\n",
    "\n",
    "print(\"48 h. Number of patients after: \", len(vae_data_main.ID.unique()))\n",
    "print(\"48 h. Number of ICU admissions after: \", len(vae_data_main.ID_subid.unique()))\n",
    "# 50 patients lost"
   ]
  },
  {
   "cell_type": "code",
   "execution_count": 4,
   "metadata": {},
   "outputs": [],
   "source": [
    "# Censore patients' data at day 365 in ICU if a they stayed longer\n",
    "\n",
    "vae_data_main = vae_data_main.loc[ ~(vae_data_main.day_in_icu >365)]\n",
    "# 4 patients censored"
   ]
  },
  {
   "cell_type": "code",
   "execution_count": 5,
   "metadata": {},
   "outputs": [
    {
     "name": "stdout",
     "output_type": "stream",
     "text": [
      "POA, people, after:  2708\n",
      "POA, admissions, after:  2957\n"
     ]
    }
   ],
   "source": [
    "# Remove patients who had HARTI present on admission\n",
    "\n",
    "ids_to_drop = (vae_data_main[['ID_subid', 'infection_respiratory']].groupby('ID_subid').first() == 1.)\n",
    "ids_to_drop = ids_to_drop[ids_to_drop.infection_respiratory == True].index\n",
    "vae_data_main = vae_data_main[~vae_data_main.ID_subid.isin(ids_to_drop)]\n",
    "\n",
    "print(\"POA, people, after: \", len(vae_data_main.ID.unique()))\n",
    "print(\"POA, admissions, after: \", len(vae_data_main.ID_subid.unique()))\n",
    "# 259 ICU admissions excluded"
   ]
  },
  {
   "cell_type": "markdown",
   "metadata": {},
   "source": [
    "# 3. Count surgeries"
   ]
  },
  {
   "cell_type": "code",
   "execution_count": 6,
   "metadata": {},
   "outputs": [
    {
     "name": "stderr",
     "output_type": "stream",
     "text": [
      "6it [00:01,  3.23it/s]\n"
     ]
    }
   ],
   "source": [
    "# Count surgeries\n",
    "def agg_func(x):\n",
    "    return len(x.iloc[-1]) if type(x.iloc[-1]) == list else x.iloc[-1]\n",
    "\n",
    "# Surgery name\n",
    "sg = [col for col in vae_data_main.columns \n",
    "              if 'st_' in col \n",
    "              and 'len' not in col \n",
    "             ]   \n",
    "\n",
    "# All surgeries\n",
    "new_cols = [val + '_count' for val in sg]\n",
    "\n",
    "# tmp df\n",
    "tmp = vae_data_main.loc[:,['ID_subid'] + sg].groupby('ID_subid').agg(agg_func)\n",
    "\n",
    "# select by row from tmp\n",
    "for col, new_col in tqdm.tqdm(zip(sg, new_cols)):\n",
    "    vae_data_main.loc[:,new_col] = vae_data_main.ID_subid.apply(lambda x: tmp.loc[x, col] if x in tmp.index else 0)"
   ]
  },
  {
   "cell_type": "code",
   "execution_count": 7,
   "metadata": {},
   "outputs": [],
   "source": [
    "# Fill na with 0 where appropriate (monitoring columns)\n",
    "vae_data_main[vae_data_main.columns[vae_data_main.columns.str.contains('count')]] = vae_data_main[vae_data_main.columns[vae_data_main.columns.str.contains('count')]].fillna(0)\n"
   ]
  },
  {
   "cell_type": "code",
   "execution_count": 8,
   "metadata": {},
   "outputs": [],
   "source": [
    "# Calculate total number (sum) of all surgeries\n",
    "\n",
    "sg = [col for col in vae_data_main.columns \n",
    "              if 'st_' in col\n",
    "              and 'count' in col\n",
    "              and '_len' not in col\n",
    "              and '_null' not in col\n",
    "             ]\n",
    "\n",
    "col_name = 'st_all_sum'\n",
    "vae_data_main.loc[:,col_name] = vae_data_main.loc[:, sg].sum(axis=1)"
   ]
  },
  {
   "cell_type": "markdown",
   "metadata": {},
   "source": [
    "# 4. Add new aggregated/summary columns"
   ]
  },
  {
   "cell_type": "code",
   "execution_count": 9,
   "metadata": {},
   "outputs": [
    {
     "name": "stderr",
     "output_type": "stream",
     "text": [
      "/usr/local/lib/python3.7/site-packages/ipykernel_launcher.py:11: FutureWarning: Method .as_matrix will be removed in a future version. Use .values instead.\n",
      "  # This is added back by InteractiveShellApp.init_path()\n"
     ]
    },
    {
     "data": {
      "text/html": [
       "<div>\n",
       "<style scoped>\n",
       "    .dataframe tbody tr th:only-of-type {\n",
       "        vertical-align: middle;\n",
       "    }\n",
       "\n",
       "    .dataframe tbody tr th {\n",
       "        vertical-align: top;\n",
       "    }\n",
       "\n",
       "    .dataframe thead th {\n",
       "        text-align: right;\n",
       "    }\n",
       "</style>\n",
       "<table border=\"1\" class=\"dataframe\">\n",
       "  <thead>\n",
       "    <tr style=\"text-align: right;\">\n",
       "      <th></th>\n",
       "      <th>n_days_with</th>\n",
       "      <th>n_days_total</th>\n",
       "    </tr>\n",
       "  </thead>\n",
       "  <tbody>\n",
       "    <tr>\n",
       "      <th>count</th>\n",
       "      <td>1034.000000</td>\n",
       "      <td>1064.000000</td>\n",
       "    </tr>\n",
       "    <tr>\n",
       "      <th>mean</th>\n",
       "      <td>3.645068</td>\n",
       "      <td>4.051692</td>\n",
       "    </tr>\n",
       "    <tr>\n",
       "      <th>std</th>\n",
       "      <td>3.134411</td>\n",
       "      <td>3.647723</td>\n",
       "    </tr>\n",
       "    <tr>\n",
       "      <th>min</th>\n",
       "      <td>1.000000</td>\n",
       "      <td>1.000000</td>\n",
       "    </tr>\n",
       "    <tr>\n",
       "      <th>25%</th>\n",
       "      <td>1.000000</td>\n",
       "      <td>1.000000</td>\n",
       "    </tr>\n",
       "    <tr>\n",
       "      <th>50%</th>\n",
       "      <td>3.000000</td>\n",
       "      <td>4.000000</td>\n",
       "    </tr>\n",
       "    <tr>\n",
       "      <th>75%</th>\n",
       "      <td>5.000000</td>\n",
       "      <td>5.000000</td>\n",
       "    </tr>\n",
       "    <tr>\n",
       "      <th>max</th>\n",
       "      <td>47.000000</td>\n",
       "      <td>50.000000</td>\n",
       "    </tr>\n",
       "  </tbody>\n",
       "</table>\n",
       "</div>"
      ],
      "text/plain": [
       "       n_days_with  n_days_total\n",
       "count  1034.000000   1064.000000\n",
       "mean      3.645068      4.051692\n",
       "std       3.134411      3.647723\n",
       "min       1.000000      1.000000\n",
       "25%       1.000000      1.000000\n",
       "50%       3.000000      4.000000\n",
       "75%       5.000000      5.000000\n",
       "max      47.000000     50.000000"
      ]
     },
     "execution_count": 9,
     "metadata": {},
     "output_type": "execute_result"
    }
   ],
   "source": [
    "# Tracheostomy median day\n",
    "\n",
    "# Make Endotracheal tube dummies\n",
    "vae_data_main = pd.get_dummies(vae_data_main, columns=['endotracheal_tube'])\n",
    "\n",
    "values = vae_data_main.loc[vae_data_main['endotracheal_tube_3.0'] ==\n",
    "                           1.,['ID_subid','date']].groupby('ID_subid').min().reset_index()\n",
    "\n",
    "res = {}\n",
    "i = 0\n",
    "for uid, date in values.as_matrix():\n",
    "    query_res = vae_data_main.loc[(vae_data_main.ID_subid == uid) & (vae_data_main.date < date), 'mech_vent']\n",
    "    res[uid] = {\n",
    "        'n_days_with': query_res.sum(), \n",
    "        'n_days_total': query_res.shape[0]}\n",
    "    \n",
    "res = pd.DataFrame.from_dict(res).T.replace(0., np.NaN)\n",
    "res.describe()"
   ]
  },
  {
   "cell_type": "code",
   "execution_count": 10,
   "metadata": {},
   "outputs": [],
   "source": [
    "# Write new columns: 'days on mechanical ventilation before tracheostomy' and 'days in ICU before tracheostomy'\n",
    "\n",
    "vae_data_main['days_mech_vent_before_tracheostomy'] = np.NaN\n",
    "vae_data_main['days_before_tracheostomy'] = np.NaN\n",
    "\n",
    "for uid in res.index:\n",
    "    vae_data_main.loc[vae_data_main.ID_subid == uid, 'days_before_tracheostomy'] = res.loc[uid,'n_days_total']\n",
    "    vae_data_main.loc[vae_data_main.ID_subid == uid, 'days_mech_vent_before_tracheostomy'] = res.loc[uid,'n_days_with']\n",
    "    "
   ]
  },
  {
   "cell_type": "code",
   "execution_count": 11,
   "metadata": {},
   "outputs": [
    {
     "name": "stdout",
     "output_type": "stream",
     "text": [
      "Number of ICU admissions without HAIs:  1594\n"
     ]
    }
   ],
   "source": [
    "# Add flag HAI\n",
    "\n",
    "infection_cols = vae_data_main.columns[vae_data_main.columns.str.contains('infection_')].tolist()\n",
    "vae_data_main['hai'] = vae_data_main.loc[:, infection_cols].sum(axis=1)\n",
    "\n",
    "# Collect IDs of patients without HAI\n",
    "no_hai_ids = vae_data_main[['hai','ID_subid']].groupby('ID_subid').max() == 0.\n",
    "no_hai_ids = no_hai_ids[no_hai_ids.hai].index\n",
    "\n",
    "print(\"Number of ICU admissions without HAIs: \", len(no_hai_ids))  # 1594"
   ]
  },
  {
   "cell_type": "code",
   "execution_count": 12,
   "metadata": {},
   "outputs": [],
   "source": [
    "# Add antibiotics class\n",
    "\n",
    "with open('./data/antibiotics_class.json', 'r') as f:\n",
    "    antibiotics_classes = json.load(f)\n",
    "\n",
    "for col in [\"antibiotic_\" + str(i) for i in range(1,5)]:\n",
    "    vae_data_main[col + '_class'] = vae_data_main[col].replace(antibiotics_classes)"
   ]
  },
  {
   "cell_type": "code",
   "execution_count": 13,
   "metadata": {},
   "outputs": [],
   "source": [
    "# Add column with antibiotics binary\n",
    "\n",
    "vae_data_main['antibiotics_total_binary']= (vae_data_main.antibiotics_total >=1)"
   ]
  },
  {
   "cell_type": "code",
   "execution_count": 14,
   "metadata": {},
   "outputs": [],
   "source": [
    "# Add respiratory HAI first date\n",
    "\n",
    "vae_data_main['ir_first_date'] = None\n",
    "for id_subid, time in vae_data_main.loc[vae_data_main.infection_respiratory > 0,\n",
    "                                        ['ID_subid', 'date']].groupby('ID_subid').min().reset_index().values:\n",
    "    vae_data_main.loc[vae_data_main.ID_subid == id_subid, 'ir_first_date'] = time"
   ]
  },
  {
   "cell_type": "code",
   "execution_count": 15,
   "metadata": {},
   "outputs": [],
   "source": [
    "# Add VAP flag\n",
    "\n",
    "class RollingCondition():\n",
    "    def __init__(self):\n",
    "        self.flag = False\n",
    "        \n",
    "    def __call__(self, x):\n",
    "        if x.iloc[0] == 0:\n",
    "            self.flag = True\n",
    "        \n",
    "        if not self.flag:\n",
    "            return x.iloc[0]\n",
    "        \n",
    "        return 0"
   ]
  },
  {
   "cell_type": "code",
   "execution_count": 16,
   "metadata": {},
   "outputs": [],
   "source": [
    "# Add VAP flag\n",
    "\n",
    "meta_res = {}\n",
    "for uid in vae_data_main.loc[(vae_data_main.infection_respiratory == 1) & (vae_data_main.mech_vent == 1)].ID_subid.unique():\n",
    "    # Finding starting dates\n",
    "    df = vae_data_main.loc[vae_data_main.ID_subid == uid, ['mech_vent', 'infection_respiratory', 'date', 'ID_subid']]\n",
    "    starting_dates = df.loc[(df.rolling(3).mech_vent.sum() == 3.) & \\\n",
    "                            (df.rolling(3).infection_respiratory.agg(lambda x: x.iloc[0] == 0 and x.iloc[1] == 0 and x.iloc[2] == 1)),\n",
    "                            'date']\n",
    "    \n",
    "    if len(starting_dates) > 0:\n",
    "        res = {}\n",
    "        for i, date in enumerate(starting_dates):\n",
    "            res[i] = df[df.date >= date].infection_respiratory.rolling(1).agg(RollingCondition())\n",
    "            \n",
    "        meta_res[uid] = pd.DataFrame.from_dict(res).sum(axis=1)\n",
    "        \n",
    "vap_result = pd.DataFrame.from_dict(meta_res).sum(axis=1)\n",
    "\n",
    "# Prepare column\n",
    "vap_result = pd.DataFrame.from_dict(meta_res).sum(axis=1)\n",
    "vap_result = pd.DataFrame(vap_result, columns=['vap_result'])\n",
    "\n",
    "# Writing column to main data\n",
    "vae_data_main['vap'] = 0.\n",
    "vae_data_main['vap'] = pd.DataFrame(vae_data_main.vap.copy()).join(vap_result).sum(axis=1)"
   ]
  },
  {
   "cell_type": "code",
   "execution_count": 17,
   "metadata": {},
   "outputs": [],
   "source": [
    "# Add flag for patients with non-VAP respiratory infections\n",
    "\n",
    "a = vae_data_main.loc[(vae_data_main.vap == 0) & (vae_data_main.infection_respiratory > 0)].index\n",
    "vae_data_main['non_vap_resp_hai'] = vae_data_main.index.isin(a)\n"
   ]
  },
  {
   "cell_type": "markdown",
   "metadata": {},
   "source": [
    "# 5. Create new columns with \"days with factors before HARTI\""
   ]
  },
  {
   "cell_type": "code",
   "execution_count": 18,
   "metadata": {},
   "outputs": [],
   "source": [
    "# WE CALCULATE VALUES STARTING FROM THE FIRST DAY OF SURVEILLANCE HERE\n",
    "\n",
    "# Columns with binary values\n",
    "# Calculate the number of days with factor before the onset of respiratory HAI\n",
    "# if no respiratory HAI - total number of days with factor\n",
    "\n",
    "cols = [\n",
    "    'mech_vent', 'central_line', 'feeding_tube', 'arterial_line', 'antibiotics_total_binary',\n",
    "    'evd', 'icpm', 'urinary_catheter', 'csfl_ne', 'csfl_ss', 'hypothermia',\n",
    "    'hemodialysis', 'total_parenteral_feeding',\n",
    "    'intestinal_dysfunction', 'convulsions', 'sedation',\n",
    "    'anxiolytics', 'aphasia', 'mutism', 'vasopressors', 'infection_cns', \n",
    "    'infection_bloodstream', 'infection_urinary', 'infection_ssi', 'infection_other']\n",
    "\n",
    "cols += [f\"endotracheal_tube_{float(i)}\" for i in range(4)]\n",
    "\n",
    "for col in cols:\n",
    "    n_days = vae_data_main.loc[\n",
    "        vae_data_main.date < vae_data_main.ir_first_date.apply(\n",
    "            lambda x: x if x else np.datetime64('2020-01')), [col, 'ID_subid']].groupby('ID_subid').sum()\n",
    "\n",
    "    # To dict\n",
    "    n_days_dict = n_days.to_dict()[col]\n",
    "    \n",
    "    # Write results\n",
    "    vae_data_main[col + '_bid'] = vae_data_main.ID_subid.map(n_days_dict)"
   ]
  },
  {
   "cell_type": "code",
   "execution_count": 19,
   "metadata": {},
   "outputs": [],
   "source": [
    "# Columns with length of stay\n",
    "# Max value before the onset of respiratory HAI\n",
    "\n",
    "cols = ['day_in_icu']\n",
    "\n",
    "for col in cols:\n",
    "    n_days = vae_data_main.loc[\n",
    "        vae_data_main.date < vae_data_main.ir_first_date.apply(\n",
    "            lambda x: x if x else np.datetime64('2020-01')), [col, 'ID_subid']].groupby('ID_subid').max()\n",
    "\n",
    "    # To dict\n",
    "    n_days_dict = n_days.to_dict()[col]\n",
    "    \n",
    "    # Write results\n",
    "    vae_data_main[col + '_bid'] = vae_data_main.ID_subid.map(n_days_dict)"
   ]
  },
  {
   "cell_type": "code",
   "execution_count": 20,
   "metadata": {},
   "outputs": [],
   "source": [
    "# WE CALCULATE VALUES STARTING FROM THE FIRST DAY OF SURVEILLANCE HERE\n",
    "\n",
    "# Columns with length of surgeries\n",
    "# Total length before the onset of HARTI\n",
    "# If no HARTI, total length of surgeries by type during the ICU admission\n",
    "\n",
    "cols = ['st_craniotomy_len', 'st_device_len', 'st_endonasal_len',\n",
    "        'st_endovascular_len', 'st_other_len', 'st_spinal_len']\n",
    "\n",
    "def agg_func(x):\n",
    "    return max(x.apply(lambda l: np.nansum(l) if isinstance(l, list) else -1))\n",
    "\n",
    "for col in cols:\n",
    "    n_days = vae_data_main.loc[\n",
    "        vae_data_main.date < vae_data_main.ir_first_date.apply(\n",
    "            lambda x: x if x else np.datetime64('2020-01')), [col, 'ID_subid']].groupby('ID_subid').agg(agg_func)\n",
    "\n",
    "    # To dict\n",
    "    n_days_dict = n_days.to_dict()[col]\n",
    "    \n",
    "    # Write results\n",
    "    vae_data_main[col + '_bid'] = vae_data_main.ID_subid.map(n_days_dict)"
   ]
  },
  {
   "cell_type": "code",
   "execution_count": 21,
   "metadata": {},
   "outputs": [],
   "source": [
    "# Add column with sum of length of all surgeries\n",
    "\n",
    "len_cols = ('st_craniotomy_len', 'st_device_len', 'st_endonasal_len',\n",
    "           'st_endovascular_len', 'st_other_len', 'st_spinal_len')\n",
    "\n",
    "vae_data_main['st_all_len'] = vae_data_main.loc[:, len_cols].sum(axis=1)\n",
    "\n",
    "# Before infection\n",
    "len_cols_bid = ('st_craniotomy_len_bid', 'st_device_len_bid', 'st_endonasal_len_bid',\n",
    "           'st_endovascular_len_bid', 'st_other_len_bid', 'st_spinal_len_bid')\n",
    "\n",
    "vae_data_main['st_all_len_bid'] = vae_data_main.loc[:, len_cols].sum(axis=1)"
   ]
  },
  {
   "cell_type": "code",
   "execution_count": 22,
   "metadata": {},
   "outputs": [],
   "source": [
    "# Add columns with total number of surgeries (by type) before infection\n",
    "\n",
    "cols = ['st_craniotomy', 'st_device', 'st_endonasal',\n",
    "        'st_endovascular', 'st_other', 'st_spinal']\n",
    "\n",
    "def func(x):\n",
    "    return x.apply(lambda k: len(k) if isinstance(k, list) else k).max()\n",
    "    \n",
    "for col in cols:\n",
    "    n_days = vae_data_main.loc[\n",
    "        vae_data_main.date < vae_data_main.ir_first_date.apply(\n",
    "            lambda x: x if x else np.datetime64('2020-01')), [col, 'ID_subid']].groupby('ID_subid').agg(func)\n",
    "\n",
    "    # To dict\n",
    "    n_days_dict = n_days.to_dict()[col]\n",
    "    \n",
    "    # Write results\n",
    "    vae_data_main[col + '_bid'] = vae_data_main.ID_subid.map(n_days_dict)\n",
    "    \n",
    "    \n",
    "# Calculate total number (sum) of all surgeries before infection\n",
    "operations = [col for col in vae_data_main.columns \n",
    "              if 'st_' in col\n",
    "              and 'count' in col\n",
    "              and 'bid' in col\n",
    "              and '_len' not in col\n",
    "              and '_name' not in col\n",
    "              and '_null' not in col\n",
    "             ]\n",
    "\n",
    "col_name = 'st_all_sum_bid'\n",
    "vae_data_main.loc[:,col_name] = vae_data_main.loc[:, operations].sum(axis=1)"
   ]
  },
  {
   "cell_type": "markdown",
   "metadata": {},
   "source": [
    "____"
   ]
  },
  {
   "cell_type": "code",
   "execution_count": 23,
   "metadata": {},
   "outputs": [],
   "source": [
    "# WE CALCULATE VALUES STARTING FROM THE FIRST DAY OF SURVEILLANCE HERE\n",
    "\n",
    "# Columns with numeric values\n",
    "# Median for the five days before the onset of HARTI\n",
    "# if HARTI from day 1, fill with first day value\n",
    "# if No HARTI, median of all observed values\n",
    "\n",
    "def median_last_five_values(x):\n",
    "    return x[-5:].median()\n",
    "\n",
    "cols = ['consciousness', 'rass', 'pbss', 'charlson', 'antibiotics_total']\n",
    "\n",
    "for col in cols:\n",
    "    # Fill with zeros\n",
    "    vae_data_main[col + '_bid'] = 0.\n",
    "\n",
    "    # infected\n",
    "    n_days_inf = vae_data_main.loc[\n",
    "        vae_data_main.date < vae_data_main.ir_first_date.apply(\n",
    "            lambda x: x if x else np.datetime64('2000-01')), [col, 'ID_subid']].groupby('ID_subid').agg(median_last_five_values)\n",
    "\n",
    "    # To dict\n",
    "    n_days_inf_dict = n_days_inf.to_dict()[col]\n",
    "    \n",
    "    # not infected\n",
    "    n_days_not_inf = vae_data_main.loc[\n",
    "        vae_data_main.date < vae_data_main.ir_first_date.apply(\n",
    "            lambda x: np.datetime64('2020-01') if (not x) else np.datetime64('2000-01')), [col, 'ID_subid']].groupby('ID_subid').median()\n",
    "    \n",
    "    n_days_not_inf_dict = n_days_not_inf.to_dict()[col]\n",
    "    \n",
    "    # Sum\n",
    "    inf_dict_len = len(n_days_inf_dict)\n",
    "    not_inf_dict_len = len(n_days_not_inf_dict)\n",
    "    \n",
    "    n_days_inf_dict.update(n_days_not_inf_dict)\n",
    "    \n",
    "    assert len(n_days_inf_dict) == inf_dict_len + not_inf_dict_len\n",
    "    \n",
    "    # Write results\n",
    "    vae_data_main[col + '_bid'] = vae_data_main.ID_subid.map(n_days_inf_dict)"
   ]
  },
  {
   "cell_type": "code",
   "execution_count": 24,
   "metadata": {},
   "outputs": [],
   "source": [
    "# Fillna\n",
    "bid_cols = vae_data_main.columns[vae_data_main.columns.str.contains('_bid')]\n",
    "vae_data_main[bid_cols] = vae_data_main[bid_cols].fillna(0)\n",
    "assert not vae_data_main[bid_cols].isna().max().values.max()"
   ]
  },
  {
   "cell_type": "code",
   "execution_count": 25,
   "metadata": {},
   "outputs": [],
   "source": [
    "# Make dummies for columns\n",
    "vae_data_main = pd.get_dummies(vae_data_main, columns=['outcome', 'gender', 'disease_type'])"
   ]
  },
  {
   "cell_type": "code",
   "execution_count": 26,
   "metadata": {},
   "outputs": [],
   "source": [
    "# ADD: year column\n",
    "vae_data_main['year'] = vae_data_main.date.dt.year\n",
    "\n",
    "# ADD: yearmonth col\n",
    "vae_data_main['yearmonth'] = vae_data_main.date.dt.strftime(\"%y%m\")\n",
    "\n",
    "# ADD: halfyear col\n",
    "halfyear = ((vae_data_main.date.dt.strftime(\"%y\").astype('int') - 11) * 12 + vae_data_main.date.dt.strftime(\"%m\").astype('int')) // 6\n",
    "vae_data_main['halfyear'] = halfyear + 1\n",
    "\n",
    "# ADD first day in the ICU\n",
    "date_series = vae_data_main[['ID_subid', 'date', 'day_in_icu']].groupby('ID_subid').first()\n",
    "date_series = (date_series.date - date_series.day_in_icu.apply(lambda x: np.timedelta64(int(x)-1, 'D')))\n",
    "date_dict = date_series.to_dict()\n",
    "vae_data_main['first_day_in_icu'] = vae_data_main.ID_subid.map(date_dict)\n"
   ]
  },
  {
   "cell_type": "markdown",
   "metadata": {},
   "source": [
    "# 6. Create aggregated factors"
   ]
  },
  {
   "cell_type": "code",
   "execution_count": 27,
   "metadata": {},
   "outputs": [],
   "source": [
    "# Summary length of surgeries\n",
    "cols = ['st_craniotomy_len', 'st_device_len', 'st_endonasal_len',\n",
    "        'st_endovascular_len', 'st_other_len', 'st_spinal_len']\n",
    "\n",
    "def agg_func(x):\n",
    "    return max(x.apply(lambda l: np.nansum(l) if isinstance(l, list) else -1))\n",
    "\n",
    "for col in cols:\n",
    "    n_days = vae_data_main.loc[:, [col, 'ID_subid']].groupby('ID_subid').agg(agg_func)\n",
    "\n",
    "    # To dict\n",
    "    n_days_dict = n_days.to_dict()[col]\n",
    "    \n",
    "    # Write results\n",
    "    vae_data_main[col + '_sum'] = vae_data_main.ID_subid.map(n_days_dict)"
   ]
  },
  {
   "cell_type": "code",
   "execution_count": 28,
   "metadata": {},
   "outputs": [],
   "source": [
    "# Days with factor\n",
    "cols = [\n",
    "    'mech_vent', 'central_line', 'feeding_tube', 'arterial_line', 'antibiotics_total_binary',\n",
    "    'evd', 'icpm', 'urinary_catheter', 'csfl_ne', 'csfl_ss', 'hypothermia',\n",
    "    'hemodialysis', 'total_parenteral_feeding',\n",
    "    'intestinal_dysfunction', 'convulsions', 'sedation',\n",
    "    'anxiolytics', 'aphasia', 'mutism', 'vasopressors', 'infection_cns', \n",
    "    'infection_bloodstream', 'infection_urinary', 'infection_ssi', 'infection_other']\n",
    "\n",
    "cols += [f\"endotracheal_tube_{float(i)}\" for i in range(4)]\n",
    "\n",
    "for col in cols:\n",
    "    n_days = vae_data_main.loc[:, [col, 'ID_subid']].groupby('ID_subid').sum()\n",
    "\n",
    "    # To dict\n",
    "    n_days_dict = n_days.to_dict()[col]\n",
    "    \n",
    "    # Write results\n",
    "    vae_data_main[col + '_d'] = vae_data_main.ID_subid.map(n_days_dict)"
   ]
  },
  {
   "cell_type": "code",
   "execution_count": 29,
   "metadata": {},
   "outputs": [],
   "source": [
    "# Add groups annotation column\n",
    "mask = {\n",
    "    '0000': 'No HAI',\n",
    "    '1011': 'NVA-HARTI',\n",
    "    '1101': 'VA-HARTI',\n",
    "    '0001': 'Other HAI',\n",
    "    '1111': 'VA+NVA HARTI'\n",
    "}\n",
    "def map_label(row):\n",
    "    mask_ = f'{int(row[0])}{int(row[1])}{int(row[2])}{int(bool(row[3]))}'\n",
    "    return mask[mask_]\n",
    "\n",
    "groups = vae_data_main[['ID_subid', 'infection_respiratory', 'vap',\n",
    "                        'non_vap_resp_hai', 'hai']].groupby('ID_subid').max().apply(map_label, axis=1)\n",
    "groups_dict = groups.to_dict()\n",
    "\n",
    "# Map groups by ID_subid\n",
    "vae_data_main['group'] = vae_data_main.ID_subid.map(groups_dict)"
   ]
  },
  {
   "cell_type": "markdown",
   "metadata": {},
   "source": [
    "# 7. Save dataset"
   ]
  },
  {
   "cell_type": "code",
   "execution_count": 31,
   "metadata": {},
   "outputs": [],
   "source": [
    "PATH = './data/'\n",
    "os.makedirs(PATH, exist_ok=True)\n",
    "\n",
    "FILENAME = 'Updated_VAE_Data_Main'\n",
    "TIMESTAMP = datetime.datetime.now().strftime('%m%d_%H%M')\n",
    "\n",
    "# CSV\n",
    "os.path\n",
    "vae_data_main.to_csv(os.path.join(PATH, '{}_{}.csv'.format(FILENAME, TIMESTAMP)))\n",
    "\n",
    "# Pickle\n",
    "with open(os.path.join(PATH, '{}_{}.pkl'.format(FILENAME, TIMESTAMP)), 'wb') as f:\n",
    "    pickle.dump(vae_data_main, f)"
   ]
  },
  {
   "cell_type": "markdown",
   "metadata": {},
   "source": [
    "_________"
   ]
  }
 ],
 "metadata": {
  "kernelspec": {
   "display_name": "Python 3",
   "language": "python",
   "name": "python3"
  },
  "language_info": {
   "codemirror_mode": {
    "name": "ipython",
    "version": 3
   },
   "file_extension": ".py",
   "mimetype": "text/x-python",
   "name": "python",
   "nbconvert_exporter": "python",
   "pygments_lexer": "ipython3",
   "version": "3.7.4"
  }
 },
 "nbformat": 4,
 "nbformat_minor": 4
}
