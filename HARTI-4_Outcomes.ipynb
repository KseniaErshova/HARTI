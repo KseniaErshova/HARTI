{
 "cells": [
  {
   "cell_type": "code",
   "execution_count": null,
   "metadata": {},
   "outputs": [],
   "source": [
    "# Load libraries and functions\n",
    "%load_ext autoreload\n",
    "%autoreload 2\n",
    "%matplotlib inline\n",
    "RANDOM_STATE = 42  # Pseudo-random state\n",
    "\n",
    "from utils import *\n",
    "sns.set_palette(\"tab10\") # Default seaborn theme\n",
    "\n",
    "# Extra libraries for this notebook\n",
    "import cmprsk\n",
    "from cmprsk import utils\n",
    "from cmprsk.cmprsk import cuminc\n",
    "import scikit_posthocs as sph\n",
    "from statannot import add_stat_annotation"
   ]
  },
  {
   "cell_type": "code",
   "execution_count": null,
   "metadata": {},
   "outputs": [],
   "source": [
    "# Upload dataset\n",
    "fn_vae_data = glob.glob('./Updated*.pkl')\n",
    "latest_fn_vae_data = max(fn_vae_data, key=os.path.getctime)\n",
    "\n",
    "print(\"Loading... \",latest_fn_vae_data)\n",
    "with open(latest_fn_vae_data, \"rb\") as f:\n",
    "    vae_data_main = pickle.load(f)\n",
    "print(\"Done\")"
   ]
  },
  {
   "cell_type": "markdown",
   "metadata": {},
   "source": [
    "# Define functions"
   ]
  },
  {
   "cell_type": "code",
   "execution_count": null,
   "metadata": {},
   "outputs": [],
   "source": [
    "######### Posthoc analysis for multiple groups by chi-square test\n",
    "\n",
    "def get_asterisks_for_pval(p_val):\n",
    "    \"\"\"Receives the p-value and returns asterisks string.\"\"\"\n",
    "    if p_val > 0.05:\n",
    "        p_text = \"ns\"  # above threshold => not significant\n",
    "    elif p_val < 1e-4:  \n",
    "        p_text = '****'\n",
    "    elif p_val < 1e-3:\n",
    "        p_text = '***'\n",
    "    elif p_val < 1e-2:\n",
    "        p_text = '**'\n",
    "    else:\n",
    "        p_text = '*'\n",
    "    \n",
    "    return p_text\n",
    "\n",
    "def chisq_and_posthoc_corrected(df): #df is a contingency table\n",
    "    \"\"\"Receives a dataframe and performs chi2 test and then post hoc.\n",
    "    Prints the p-values and corrected p-values (after FDR correction)\"\"\"\n",
    "    # start by running chi2 test on the matrix\n",
    "    chi2, p, dof, ex = chi(df, correction=True)\n",
    "    print(f\"Chi2 result of the contingency table: {chi2}, p-value: {p}\")\n",
    "    \n",
    "    # post-hoc\n",
    "    all_combinations = list(combinations(df.index, 2))  # gathering all combinations for post-hoc chi2\n",
    "    p_vals = []\n",
    "    print(\"Significance results:\")\n",
    "    for comb in all_combinations:\n",
    "        new_df = df[(df.index == comb[0]) | (df.index == comb[1])]\n",
    "        chi2, p, dof, ex = chi(new_df, correction=True)\n",
    "        p_vals.append(p)\n",
    "        # print(f\"For {comb}: {p}\")  # uncorrected\n",
    "\n",
    "    # checking significance\n",
    "    # correction for multiple testing\n",
    "    reject_list, corrected_p_vals = multipletests(p_vals, method='fdr_bh')[:2]\n",
    "    for p_val, corr_p_val, reject, comb in zip(p_vals, corrected_p_vals, reject_list, all_combinations):\n",
    "        print(f\"{comb}: p_value: {p_val:5f}; corrected: {corr_p_val:5f} ({get_asterisks_for_pval(p_val)})\")\n",
    "        \n",
    "        "
   ]
  },
  {
   "cell_type": "markdown",
   "metadata": {},
   "source": [
    "# Hospital LOS"
   ]
  },
  {
   "cell_type": "code",
   "execution_count": null,
   "metadata": {},
   "outputs": [],
   "source": [
    "# Select outcome data for ICU admissions and individuals\n",
    "# Group attribution is selected by hierarchy \n",
    "df_admissions = vae_data_main[['los', 'day_in_icu_max', 'ID_subid', 'ID', 'outcome_death', 'date', 'group']]\n",
    "df_admissions = df_admissions.groupby('ID_subid').agg({'los': max, 'day_in_icu_max':max, 'group':max,\n",
    "                                 'date': min, 'ID':max, 'outcome_death':max,})\n",
    "df_admissions.date = df_admissions.date.dt.year\n",
    "\n",
    "df_individuals = df_admissions.copy()\n",
    "df_individuals = df_individuals.groupby('ID').agg({'los': max, 'day_in_icu_max':max, 'group':max,\n",
    "                                 'date': min, 'outcome_death':max,})\n",
    "\n",
    "#Drop Dual HARTI data - not included in the analysis due to small sample size\n",
    "df_admissions = df_admissions.loc[~(df_admissions.group == \"Dual HARTI\")]\n",
    "df_individuals = df_individuals.loc[~(df_individuals.group == \"Dual HARTI\")]\n"
   ]
  },
  {
   "cell_type": "code",
   "execution_count": null,
   "metadata": {},
   "outputs": [],
   "source": [
    "# Display descriptive data by groups for LOS\n",
    "df_individuals[['los', 'group']].groupby('group').describe().T"
   ]
  },
  {
   "cell_type": "code",
   "execution_count": null,
   "metadata": {},
   "outputs": [],
   "source": [
    "# Compare groups by ANOVA (normal distribution assumption)\n",
    "lm = smf.ols('los ~ group', data=df_individuals).fit()\n",
    "anova = sm.stats.anova_lm(lm)\n",
    "print(anova)\n",
    "\n",
    "# Compare groups by Kruskal test (non-parametric)\n",
    "data = [df_individuals.loc[ids, 'los'].values for ids in df_individuals.groupby('group').groups.values()]\n",
    "H, p = stats.kruskal(*data)\n",
    "print('\\nKruskal test p-value: ', p)\n",
    "\n",
    "# Compare groups pairwise (non-parametric Conover test)\n",
    "sph.posthoc_conover(df_individuals, val_col='los', group_col='group', p_adjust ='holm')"
   ]
  },
  {
   "cell_type": "markdown",
   "metadata": {},
   "source": [
    "### Dynamics of hospital LOS by groups and years"
   ]
  },
  {
   "cell_type": "code",
   "execution_count": null,
   "metadata": {},
   "outputs": [],
   "source": [
    "# Calculate numbers for LOS\n",
    "medians = {}\n",
    "for group in df_individuals.group.unique():\n",
    "    m = []\n",
    "    a = df_individuals[(df_individuals.group==group)]\n",
    "    for i in range(2011,2021):\n",
    "        b = a[(a.date == i)].los.median()\n",
    "        m.append(b)\n",
    "    medians[group] = m\n",
    "los = pd.DataFrame.from_dict(medians).T\n",
    "\n",
    "# test significance of outcome dynamics by years\n",
    "pvals = []\n",
    "for col in los.index:\n",
    "    a = linregress(los.T[col], np.arange(len(los.T[col]))).pvalue\n",
    "    pvals.append(a)\n",
    "los = los.assign(pvalues = pvals)\n",
    "los"
   ]
  },
  {
   "cell_type": "code",
   "execution_count": null,
   "metadata": {},
   "outputs": [],
   "source": [
    "# Get p-values\n",
    "def get_p_suffix(x):\n",
    "    pval = los.pvalues.dropna().to_dict().get(x, None)\n",
    "    if pval is not None:\n",
    "        return f'{x} ($p={pval:.03f}$)'\n",
    "    return x\n",
    "\n",
    "data = df_individuals.copy()\n",
    "data.group = data.group.apply(get_p_suffix)\n",
    "\n",
    "\n",
    "# Plot boxplots by years and groups\n",
    "colors_sns = ['medium blue', 'orange', 'light purple', 'light red']\n",
    "sns.set_palette(sns.xkcd_palette(colors_sns))\n",
    "fig, ax = plt.subplots(1, figsize=(15, 7))\n",
    "sns.boxplot(x='date', y='los', hue='group', data=data, ax=ax,\n",
    "            showfliers=False,\n",
    "            hue_order=data.group.unique()[[2,3,0,1]],\n",
    "           )\n",
    "\n",
    "ax.set_title('Length of hospital stay in 4 groups by years')\n",
    "ax.set_ylabel('Length of hospital stay, days')\n",
    "ax.set_xlabel('')\n",
    "ax.minorticks_on()\n",
    "ax.grid(linestyle='dotted', which='both', axis='y')\n",
    "\n",
    "plt.tight_layout()\n",
    "plt.savefig('pictures/los_years.pdf', bbox_inches=\"tight\", dpi=600)"
   ]
  },
  {
   "cell_type": "markdown",
   "metadata": {},
   "source": [
    "# ICU LOS"
   ]
  },
  {
   "cell_type": "code",
   "execution_count": null,
   "metadata": {},
   "outputs": [],
   "source": [
    "# Display desriptive data by groups for ICU LOS\n",
    "df_admissions[['day_in_icu_max', 'group']].groupby('group').describe().T"
   ]
  },
  {
   "cell_type": "code",
   "execution_count": null,
   "metadata": {},
   "outputs": [],
   "source": [
    "# Compare groups by ANOVA (normal distribution assumption)\n",
    "lm = smf.ols('day_in_icu_max ~ group', data=df_admissions).fit()\n",
    "anova = sm.stats.anova_lm(lm)\n",
    "print(anova)\n",
    "\n",
    "# Compare groups by Kruskal test (non-parametric)\n",
    "data = [df_admissions.loc[ids, 'day_in_icu_max'].values for ids in df_admissions.groupby('group').groups.values()]\n",
    "H, p = stats.kruskal(*data)\n",
    "print('\\nKruskal test p-value: ', p)\n",
    "\n",
    "# Compare groups pairwise (non-parametric Conover test)\n",
    "sph.posthoc_conover(df_admissions, val_col='day_in_icu_max', group_col='group', p_adjust ='holm')"
   ]
  },
  {
   "cell_type": "markdown",
   "metadata": {},
   "source": [
    "### Dynamics of ICU LOS by groups and years"
   ]
  },
  {
   "cell_type": "code",
   "execution_count": null,
   "metadata": {},
   "outputs": [],
   "source": [
    "# Calculate numbers for ICU LOS\n",
    "medians = {}\n",
    "for group in df_admissions.group.unique():\n",
    "    m = []\n",
    "    a = df_admissions[(df_admissions.group==group)]\n",
    "    for i in range(2011,2021):\n",
    "        b = a[(a.date == i)].day_in_icu_max.median()\n",
    "        m.append(b)\n",
    "    medians[group] = m\n",
    "losicu = pd.DataFrame.from_dict(medians).T\n",
    "\n",
    "# test significance of outcome dynamics by years\n",
    "pvals = []\n",
    "for col in losicu.index:\n",
    "    a = linregress(losicu.T[col], np.arange(len(losicu.T[col]))).pvalue\n",
    "    pvals.append(a)\n",
    "losicu = losicu.assign(pvalues = pvals)\n",
    "losicu"
   ]
  },
  {
   "cell_type": "code",
   "execution_count": null,
   "metadata": {},
   "outputs": [],
   "source": [
    "# Get p-values\n",
    "def get_p_suffix(x):\n",
    "    pval = losicu.pvalues.dropna().to_dict().get(x, None)\n",
    "    if pval is not None:\n",
    "        return f'{x} ($p={pval:.03f}$)'\n",
    "    return x\n",
    "\n",
    "data = df_admissions.copy()\n",
    "data.group = data.group.apply(get_p_suffix)\n",
    "\n",
    "# Plot boxplots by years and groups\n",
    "colors_sns = ['medium blue', 'orange', 'light purple', 'light red']\n",
    "sns.set_palette(sns.xkcd_palette(colors_sns))\n",
    "fig, ax = plt.subplots(1, figsize=(15, 7))\n",
    "sns.boxplot(x='date', y='day_in_icu_max', hue='group', data=data, ax=ax,\n",
    "            showfliers=False,\n",
    "            hue_order=data.group.unique()[[2,3,0,1]],\n",
    "           )\n",
    "ax.set_title('Length of ICU stay in 4 groups by years')\n",
    "ax.set_ylabel('Length of ICU stay, days')\n",
    "ax.set_xlabel('')\n",
    "ax.minorticks_on()\n",
    "ax.grid(linestyle='dotted', which='both', axis='y')\n",
    "\n",
    "plt.tight_layout()\n",
    "plt.savefig('pictures/los_icu_years.pdf', bbox_inches=\"tight\", dpi=600)"
   ]
  },
  {
   "cell_type": "markdown",
   "metadata": {},
   "source": [
    "### Plot hospital LOS, ICU LOS and mortality by groups"
   ]
  },
  {
   "cell_type": "code",
   "execution_count": null,
   "metadata": {},
   "outputs": [],
   "source": [
    "# Define comparisons\n",
    "colors_sns = ['medium blue', 'orange', 'light purple', 'light red']\n",
    "sns.set_palette(sns.xkcd_palette(colors_sns))\n",
    "\n",
    "fig, [ax, ax1, ax2] = plt.subplots(1,3, figsize=(17.5, 7))\n",
    "\n",
    "boxpairs=[('VA-HARTI', 'NVA-HARTI'), ('VA-HARTI', 'Other HAI'), ('VA-HARTI', 'No HAI'),\n",
    "          ('NVA-HARTI', 'No HAI'), ('NVA-HARTI', 'Other HAI')]\n",
    "order = ['VA-HARTI', 'NVA-HARTI', 'Other HAI', 'No HAI']\n",
    "\n",
    "# LOS\n",
    "sns.boxplot(x='group', y='los', data=df_individuals, ax=ax, showfliers=False, order=order)\n",
    "# Add p-value annotation\n",
    "pvals_los_all = sph.posthoc_conover(df_individuals, val_col='los', group_col='group', p_adjust ='holm')\n",
    "pvalues_los = []\n",
    "for i in boxpairs:\n",
    "    pvalues_los.append(pvals_los_all.loc[i])\n",
    "    \n",
    "add_stat_annotation(ax=ax, data=df_individuals, x='group', y='los', order=order, box_pairs=boxpairs,\n",
    "                    perform_stat_test=False, pvalues=pvalues_los,\n",
    "                    test=None, text_format='star',\n",
    "                    loc='outside', verbose=0, text_offset=1)\n",
    "ax.minorticks_on()\n",
    "ax.grid(linestyle='dotted', which='both', axis='y')\n",
    "ax.set_xlabel('')\n",
    "ax.set_xticklabels(['VA-HARTI', 'NVA-HARTI', 'Other HAI', 'No HAI'])\n",
    "ax.set_ylabel('Length of hospital stay, days')\n",
    "\n",
    "# ICU LOS\n",
    "sns.boxplot(x='group', y='day_in_icu_max', data=df_admissions, ax=ax1, showfliers=False, order=order)\n",
    "# Add p-value annotation\n",
    "pvals_iculos_all = sph.posthoc_conover(df_admissions, val_col='day_in_icu_max', group_col='group', p_adjust ='holm')\n",
    "pvalues_iculos = []\n",
    "for i in boxpairs:\n",
    "    pvalues_iculos.append(pvals_iculos_all.loc[i])\n",
    "    \n",
    "add_stat_annotation(ax=ax1, data=df_admissions, x='group', y='day_in_icu_max', order=order, box_pairs=boxpairs,\n",
    "                    perform_stat_test=False, pvalues=pvalues_iculos,\n",
    "                    test=None, text_format='star',\n",
    "                    loc='outside', verbose=0, text_offset=1)\n",
    "ax1.minorticks_on()\n",
    "ax1.grid(linestyle='dotted', which='both', axis='y')\n",
    "ax1.set_xlabel('')\n",
    "ax1.set_ylabel('Length of ICU stay, days')\n",
    "\n",
    "# Mortality rate\n",
    "sns.pointplot(x='group', y=\"outcome_death\", data=df_individuals, join=False, ax=ax2,\n",
    "              order=order, capsize=.2)\n",
    "# Add p-value annotation\n",
    "add_stat_annotation(ax=ax2, data=df_individuals, x='group', y='outcome_death', order=order,\n",
    "                    box_pairs=[('No HAI', 'VA-HARTI')],\n",
    "                    perform_stat_test=False,\n",
    "                    pvalues= [0.000001],\n",
    "                    test=None, text_format='star',\n",
    "                    line_offset_to_box=1.6,\n",
    "                    loc='outside',\n",
    "                    verbose=0, text_offset=2\n",
    "                   )\n",
    "ax2.minorticks_on()\n",
    "ax2.grid(linestyle='dotted', which='both', axis='y')\n",
    "ax2.set_xlabel('')\n",
    "ax2.set_xticklabels(['VA-HARTI', 'NVA-HARTI', 'Other HAI', 'No HAI'])\n",
    "ax2.set_ylabel('Crude in-hospital mortality')\n",
    "plt.tight_layout()\n",
    "plt.savefig('./pictures/outcomes_all.pdf', dpi=600)"
   ]
  },
  {
   "cell_type": "markdown",
   "metadata": {},
   "source": [
    "# Mortality"
   ]
  },
  {
   "cell_type": "code",
   "execution_count": null,
   "metadata": {},
   "outputs": [],
   "source": [
    "# Print overall mortality\n",
    "print('All patients mortality rate: ', df_individuals.outcome_death.mean())\n",
    "cil, cir = ci(df_individuals.outcome_death.sum(), len(df_individuals))\n",
    "print(\"All patients mortality 95% CI: \", cil, cir)"
   ]
  },
  {
   "cell_type": "code",
   "execution_count": null,
   "metadata": {},
   "outputs": [],
   "source": [
    "# Plot proroption dead with 95% CI\n",
    "plt.rcParams['ytick.right'] = plt.rcParams['ytick.labelright'] = False\n",
    "fig, ax = plt.subplots(1, figsize=(7,7))\n",
    "sns.pointplot(x='date', y=\"outcome_death\", data=df_individuals, ax=ax,\n",
    "              capsize=.03,\n",
    "              scale=1,\n",
    "              errwidth = 1.7,\n",
    "              markers='o', linestyles='dotted',\n",
    "              join=True\n",
    "             )\n",
    "m = []\n",
    "for i in range(2011, 2021):\n",
    "    b = df_individuals[(df_individuals.date == i)]\n",
    "    val = b.outcome_death.mean()\n",
    "    m.append(val)\n",
    "pval = linregress(m, np.arange(len(m))).pvalue\n",
    "ax.text(0,0.03, 'p-value = '+ \"%.4f\" % pval, fontsize=14)\n",
    "ax.legend(['Mortality'], fontsize=14)\n",
    "ax.minorticks_on()\n",
    "ax.grid(linestyle='dotted', which='both', axis='y')\n",
    "ax.tick_params(axis='y', which='both', right=False, left=True)\n",
    "ax.set_title('Mortality by years, full study population')\n",
    "ax.set_ylabel('Crude in-hospital mortality', fontsize=12)\n",
    "ax.set_xlabel('')\n",
    "ax.set_ylim(0,0.28)\n",
    "print(m)\n",
    "\n",
    "plt.tight_layout()\n",
    "plt.savefig('./pictures/outcome_mortality_summary.pdf', dpi=600)"
   ]
  },
  {
   "cell_type": "code",
   "execution_count": null,
   "metadata": {},
   "outputs": [],
   "source": [
    "# Describe mortality by groups\n",
    "\n",
    "mortality = {}\n",
    "for group in df_individuals.group.unique():\n",
    "    mortality[group] = {}\n",
    "    a = df_individuals[(df_individuals.group==group)]\n",
    "    mortality[group]['n'] = a.outcome_death.sum()\n",
    "    mortality[group]['mortality'] = a.outcome_death.mean()\n",
    "    cil, cir = ci(a.outcome_death.sum(), len(a))\n",
    "    mortality[group]['cil'] = cil\n",
    "    mortality[group]['cir'] = cir\n",
    "mortality = pd.DataFrame.from_dict(mortality)\n",
    "mortality"
   ]
  },
  {
   "cell_type": "code",
   "execution_count": null,
   "metadata": {},
   "outputs": [],
   "source": [
    "# test difference in groups\n",
    "df_individuals.reset_index(level=0, inplace=True)\n",
    "contigency= pd.crosstab(df_individuals[['ID', 'group']].groupby('ID').max()['group'],\n",
    "                            df_individuals[['ID', 'outcome_death']].groupby('ID').max()['outcome_death'])\n",
    "\n",
    "# Compare mortality in groups by chi-sq test. Pairwise comparison\n",
    "chisq_and_posthoc_corrected(contigency)"
   ]
  },
  {
   "cell_type": "markdown",
   "metadata": {},
   "source": [
    "### Dynamics of mortality by groups and years"
   ]
  },
  {
   "cell_type": "code",
   "execution_count": null,
   "metadata": {},
   "outputs": [],
   "source": [
    " # Calculate numbers for mortality by years\n",
    "medians = {}\n",
    "for group in df_individuals.group.unique():\n",
    "    m = []\n",
    "    a = df_individuals[(df_individuals.group==group)]\n",
    "    for i in range(2011,2021):\n",
    "        b = a[(a.date == i)]\n",
    "        val = b.outcome_death.sum() / len(b)\n",
    "        m.append(val)\n",
    "    medians[group] = m\n",
    "mortality_years = pd.DataFrame.from_dict(medians).T\n",
    "\n",
    "# test significance of outcome dynamics by years\n",
    "pvals = []\n",
    "for col in mortality_years.index:\n",
    "    a = linregress(mortality_years.T[col], np.arange(len(mortality_years.T[col]))).pvalue\n",
    "    pvals.append(a)\n",
    "mortality_years = mortality_years.assign(pvalues = pvals)\n",
    "mortality_years"
   ]
  },
  {
   "cell_type": "code",
   "execution_count": null,
   "metadata": {},
   "outputs": [],
   "source": [
    "# Define data; add p-value to legend items\n",
    "def get_p_suffix(x, g_dict=None):\n",
    "    pval = mortality_years.pvalues.dropna().to_dict().get(x, None)\n",
    "    if pval is not None:\n",
    "        return f'{x} ($p={pval:.03f}$)'\n",
    "    return x\n",
    "\n",
    "\n",
    "if not 'No HAI' in mortality_years.index:\n",
    "    mortality_years.index = mortality_years.index.map({v: k for k, v in groups_dict.items()})\n",
    "\n",
    "data = df_individuals.copy()\n",
    "data.group = data.group.apply(get_p_suffix)\n",
    "\n",
    "# Plot proroption dead with 95% CI\n",
    "fig, ax = plt.subplots(1, figsize=(15,7))\n",
    "sns.pointplot(x='date', y=\"outcome_death\", data=data, ax=ax,\n",
    "              hue='group',\n",
    "              hue_order=data.group.unique()[[2,3,0,1]],\n",
    "              dodge=0.3,\n",
    "              capsize=.03,\n",
    "              scale=1.3,\n",
    "              errwidth = 1.7,\n",
    "              join=False\n",
    "             )\n",
    "\n",
    "ax.legend(fontsize=14)\n",
    "ax.minorticks_on()\n",
    "ax.grid(linestyle='dotted', which='both', axis='y')\n",
    "ax.set_xlabel('')\n",
    "ax.set_ylabel('Crude in-hospital mortality')\n",
    "\n",
    "plt.tight_layout()\n",
    "plt.savefig('./pictures/outcome_mortality.pdf', dpi=600)"
   ]
  },
  {
   "cell_type": "markdown",
   "metadata": {},
   "source": [
    "________"
   ]
  }
 ],
 "metadata": {
  "kernelspec": {
   "display_name": "Python 3",
   "language": "python",
   "name": "python3"
  },
  "language_info": {
   "codemirror_mode": {
    "name": "ipython",
    "version": 3
   },
   "file_extension": ".py",
   "mimetype": "text/x-python",
   "name": "python",
   "nbconvert_exporter": "python",
   "pygments_lexer": "ipython3",
   "version": "3.7.4"
  }
 },
 "nbformat": 4,
 "nbformat_minor": 2
}
