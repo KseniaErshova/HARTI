{
 "cells": [
  {
   "cell_type": "code",
   "execution_count": null,
   "metadata": {},
   "outputs": [],
   "source": [
    "# Load libraries and functions\n",
    "%load_ext autoreload\n",
    "%autoreload 2\n",
    "%matplotlib inline\n",
    "RANDOM_STATE = 42  # Pseudo-random state\n",
    "\n",
    "from utils import *\n",
    "sns.set_palette(\"tab10\") # Default seaborn theme\n",
    "\n",
    "# Extra libraries for this notebook\n",
    "import cmprsk\n",
    "from cmprsk import utils\n",
    "from cmprsk.cmprsk import cuminc"
   ]
  },
  {
   "cell_type": "code",
   "execution_count": null,
   "metadata": {},
   "outputs": [],
   "source": [
    "# Upload dataset\n",
    "fn_vae_data = glob.glob('./Updated*.pkl')\n",
    "latest_fn_vae_data = max(fn_vae_data, key=os.path.getctime)\n",
    "\n",
    "print(\"Loading... \",latest_fn_vae_data)\n",
    "with open(latest_fn_vae_data, \"rb\") as f:\n",
    "    vae_data_main = pickle.load(f)\n",
    "print(\"Done\")"
   ]
  },
  {
   "cell_type": "markdown",
   "metadata": {},
   "source": [
    "# Risk of HARTI depending on ICU days"
   ]
  },
  {
   "cell_type": "code",
   "execution_count": null,
   "metadata": {},
   "outputs": [],
   "source": [
    "#### VA- and NVA-HARTI\n",
    "\n",
    "# Define data\n",
    "T = vae_data_main[['ID_subid', 'day_in_icu_bid']].groupby('ID_subid').max()\n",
    "E1 = vae_data_main[['ID_subid', 'vap']].groupby('ID_subid').max()\n",
    "E2 = vae_data_main[['ID_subid', 'non_vap_resp_hai']].groupby('ID_subid').max()\n",
    "\n",
    "# Plot hazard function\n",
    "fig, [ax1, ax2] = plt.subplots(1, 2, figsize=(15,5))\n",
    "BANDWIDTH = 5\n",
    "LIM = 61\n",
    "naf1 = NelsonAalenFitter()\n",
    "naf1.fit(T, E1, timeline=range(0, LIM, 1), label='VA-HARTI')\n",
    "naf1.plot_hazard(ax=ax2, bandwidth=BANDWIDTH)\n",
    "add_at_risk_counts(naf1, ax=ax2)\n",
    "\n",
    "naf2 = NelsonAalenFitter()\n",
    "naf2.fit(T, E2, timeline=range(0, LIM, 1), label='NVA-HARTI')\n",
    "naf2.plot_hazard(ax=ax2, bandwidth=BANDWIDTH)\n",
    "\n",
    "ax2.text(2, 0.0001, 'bandwidth = '+ \"%.0f\" %BANDWIDTH, fontsize=12)\n",
    "ax2.grid(linestyle='dotted', which='both', axis='both')\n",
    "ax2.minorticks_on()\n",
    "ax2.legend(loc='upper center', ncol=2)\n",
    "ax2.set_xlabel('Days in the ICU')\n",
    "ax2.set_title('Kernel-smoothed function of instantaneous hazard\\nfor VA- and NVA-HARTI depending on the number of days in the ICU')\n",
    "ax2.yaxis.set_tick_params(which='both', labelleft=True)\n",
    "ax2.set_ylabel('Instantaneous hazard rate')\n",
    "\n",
    "\n",
    "# Plot competing event function\n",
    "E1 = E1.replace({0: 2})\n",
    "E2 = E2.replace({True: 1})\n",
    "E2 = E2.replace({False: 2})\n",
    "\n",
    "cuminc_res1 = cuminc(T.values.reshape(-1), E1.values.reshape(-1))\n",
    "for name, group in list(cuminc_res1.groups.items())[:1]:\n",
    "    ax1.plot(group.time, group.est, label=name)\n",
    "    ax1.fill_between(group.time, group.low_ci, group.high_ci, alpha=0.25)\n",
    "    ax1.set_xlim(0, LIM, 1)\n",
    "    \n",
    "cuminc_res2 = cuminc(T.values.reshape(-1), E2.values.reshape(-1))\n",
    "for name, group in list(cuminc_res2.groups.items())[:1]:\n",
    "    ax1.plot(group.time, group.est, label=name)\n",
    "    ax1.fill_between(group.time, group.low_ci, group.high_ci, alpha=0.25)\n",
    "    ax1.set_xlim(0, LIM, 1)\n",
    "\n",
    "ax1.grid(linestyle='dotted', which='both', axis='both')\n",
    "ax1.minorticks_on()\n",
    "ax1.legend(['VA-HARTI', 'NVA-HARTI'], loc='lower center', ncol=2)\n",
    "ax1.set_ylabel('Cumulative probability of HARTI')\n",
    "ax1.set_xlabel('Days in the ICU')\n",
    "ax1.set_title('Cumulative probability of VA- and NVA-HARTI depending on the number\\nof days in the ICU while accounting for competing events')\n",
    "plt.tight_layout()\n",
    "plt.savefig('./pictures/cuminc_VA_NVA_days.pdf', dpi=600)\n"
   ]
  },
  {
   "cell_type": "code",
   "execution_count": null,
   "metadata": {},
   "outputs": [],
   "source": [
    "# Show estimate table from cuminc VA-HARTI\n",
    "df = []\n",
    "for name, group in cuminc_res1.groups.items():\n",
    "    df.append(group.time)\n",
    "    df.append(group.est)\n",
    "    df.append(name)\n",
    "    \n",
    "harti = pd.DataFrame(zip(pd.Series(df[0]), pd.Series(df[1])))\n",
    "pd.set_option('display.max_rows', len(harti))\n",
    "print(harti.tail(10))\n",
    "\n",
    "# Added risk at first 10 days\n",
    "h10 = harti.iloc[1:14, :]\n",
    "print('\\nEach day adds probability: ', h10.diff().mean().values)"
   ]
  },
  {
   "cell_type": "code",
   "execution_count": null,
   "metadata": {},
   "outputs": [],
   "source": [
    "# Calculate doubling time for exponential phase NVA-HARTI (15 = first 7 days)\n",
    "v = harti.head(15).groupby(0).max()\n",
    "rate = v.pct_change()[1].tail(6).mean()\n",
    "print(\"Doubling time, days: \", np.log(2) / np.log(1+rate))\n",
    "print(\"Doubling time, hours: \", (np.log(2) / np.log(1+rate)) * 24)"
   ]
  },
  {
   "cell_type": "code",
   "execution_count": null,
   "metadata": {},
   "outputs": [],
   "source": [
    "# Show estimate table from cuminc NVA-HARTI\n",
    "df = []\n",
    "for name, group in cuminc_res2.groups.items():\n",
    "    df.append(group.time)\n",
    "    df.append(group.est)\n",
    "    df.append(name)\n",
    "    \n",
    "harti = pd.DataFrame(zip(pd.Series(df[0]), pd.Series(df[1])))\n",
    "pd.set_option('display.max_rows', len(harti))\n",
    "print(harti.tail(10))\n",
    "\n",
    "# Added risk at first 10 days\n",
    "h10 = harti.iloc[1:14, :].groupby(0).max()\n",
    "print('\\nEach day adds probability: ', h10.diff().mean().values)"
   ]
  },
  {
   "cell_type": "code",
   "execution_count": null,
   "metadata": {},
   "outputs": [],
   "source": [
    "# Calculate doubling time for exponential phase NVA-HARTI (15 = first 7 days)\n",
    "v = harti.head(15).groupby(0).max()\n",
    "rate = v.pct_change()[1].tail(6).mean()\n",
    "print(\"Doubling time, days: \", np.log(2) / np.log(1+rate))\n",
    "print(\"Doubling time, hours: \", (np.log(2) / np.log(1+rate)) * 24)"
   ]
  },
  {
   "cell_type": "markdown",
   "metadata": {},
   "source": [
    "# Risk of VA-HARTI depending on ventilation-days"
   ]
  },
  {
   "cell_type": "code",
   "execution_count": null,
   "metadata": {},
   "outputs": [],
   "source": [
    "# define data\n",
    "T = vae_data_main[['ID_subid', 'mech_vent_bid']].groupby('ID_subid').max()\n",
    "E = vae_data_main[['ID_subid', 'vap']].groupby('ID_subid').max()\n",
    "\n",
    "fig, [ax1, ax2] = plt.subplots(1, 2, figsize=(15,5))\n",
    "\n",
    "# Plot hazard function\n",
    "BANDWIDTH = 5\n",
    "LIM = 61\n",
    "naf = NelsonAalenFitter()\n",
    "naf.fit(T, E, timeline=range(0, LIM, 1), label='VA-HARTI')\n",
    "naf.plot_hazard(ax=ax2, bandwidth=BANDWIDTH)\n",
    "add_at_risk_counts(naf, ax=ax2)\n",
    "ax2.text(1, 0.0005, 'bandwidth = '+ \"%.0f\" %BANDWIDTH, fontsize=12)\n",
    "ax2.grid(linestyle='dotted', which='both', axis='both')\n",
    "ax2.minorticks_on()\n",
    "ax2.set_ylabel('Instantaneous hazard rate of VA-HARTI')\n",
    "ax2.set_xlabel('Days on mechanical ventilation')\n",
    "ax2.set_title('Kernel-smoothed function of instantaneous hazard of VA-HARTI\\ndepending on the number of ventilator-days')\n",
    "\n",
    "# Plot competing event function\n",
    "E = E.replace(0, 2)\n",
    "cuminc_res = cuminc(T.values.reshape(-1), E.values.reshape(-1))\n",
    "\n",
    "for name, group in list(cuminc_res.groups.items())[:1]:\n",
    "    ax1.plot(group.time, group.est, label=name)\n",
    "    ax1.fill_between(group.time, group.low_ci, group.high_ci, alpha=0.25)\n",
    "    ax1.set_xlim(0, LIM, 1)\n",
    "\n",
    "ax1.set_ylim(0, 0.21)\n",
    "ax1.grid(linestyle='dotted', which='both', axis='both')\n",
    "ax1.minorticks_on()\n",
    "ax1.legend('')\n",
    "ax1.set_ylabel('Cumulative probability of VA-HARTI')\n",
    "ax1.set_xlabel('Days on mechanical ventilation')\n",
    "ax1.set_title('Cumulative probability of VA-HARTI depending on the number of ventilator-days\\nwhile accounting for extubation as a competing event')\n",
    "plt.tight_layout()\n",
    "plt.savefig('./pictures/cuminc_VA_mechvent.pdf', dpi=600)"
   ]
  },
  {
   "cell_type": "code",
   "execution_count": null,
   "metadata": {},
   "outputs": [],
   "source": [
    "# Show estimate table from cuminc\n",
    "df = []\n",
    "for name, group in cuminc_res.groups.items():\n",
    "    df.append(group.time)\n",
    "    df.append(group.est)\n",
    "    df.append(name)\n",
    "    \n",
    "harti = pd.DataFrame(zip(pd.Series(df[0]), pd.Series(df[1])))\n",
    "print(harti.tail(10))\n",
    "\n",
    "# Added risk at first 10 days\n",
    "h8 = harti.iloc[1:18, :].groupby(0).max()\n",
    "print('\\nEach day adds probability: ', h8.diff().mean().values)"
   ]
  },
  {
   "cell_type": "code",
   "execution_count": null,
   "metadata": {},
   "outputs": [],
   "source": [
    "# Calculate doubling time for exponential phase VA-HARTI (21 = first 9 days)\n",
    "v = harti.head(21).groupby(0).max()\n",
    "rate = v.pct_change()[1].mean()\n",
    "print(\"Doubling time, days: \", np.log(2) / np.log(1+rate))\n",
    "print(\"Doubling time, hours: \", (np.log(2) / np.log(1+rate)) * 24)"
   ]
  },
  {
   "cell_type": "markdown",
   "metadata": {},
   "source": [
    "_______"
   ]
  }
 ],
 "metadata": {
  "kernelspec": {
   "display_name": "Python 3",
   "language": "python",
   "name": "python3"
  },
  "language_info": {
   "codemirror_mode": {
    "name": "ipython",
    "version": 3
   },
   "file_extension": ".py",
   "mimetype": "text/x-python",
   "name": "python",
   "nbconvert_exporter": "python",
   "pygments_lexer": "ipython3",
   "version": "3.7.4"
  }
 },
 "nbformat": 4,
 "nbformat_minor": 2
}
