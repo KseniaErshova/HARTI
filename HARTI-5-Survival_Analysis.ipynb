{
 "cells": [
  {
   "cell_type": "code",
   "execution_count": null,
   "metadata": {},
   "outputs": [],
   "source": [
    "# Load libraries and functions\n",
    "%load_ext autoreload\n",
    "%autoreload 2\n",
    "%matplotlib inline\n",
    "RANDOM_STATE = 42  # Pseudo-random state\n",
    "\n",
    "from utils import *\n",
    "sns.set_palette(\"tab10\") # Default seaborn theme\n",
    "\n",
    "# Extra libraries for this notebook\n",
    "import cmprsk\n",
    "from cmprsk import utils\n",
    "from cmprsk.cmprsk import cuminc\n",
    "import scikit_posthocs as sph"
   ]
  },
  {
   "cell_type": "code",
   "execution_count": null,
   "metadata": {},
   "outputs": [],
   "source": [
    "# Upload dataset\n",
    "fn_vae_data = glob.glob('./Updated*.pkl')\n",
    "latest_fn_vae_data = max(fn_vae_data, key=os.path.getctime)\n",
    "\n",
    "print(\"Loading... \",latest_fn_vae_data)\n",
    "with open(latest_fn_vae_data, \"rb\") as f:\n",
    "    vae_data_main = pickle.load(f)\n",
    "print(\"Done\")"
   ]
  },
  {
   "cell_type": "markdown",
   "metadata": {},
   "source": [
    "# Time of death"
   ]
  },
  {
   "cell_type": "code",
   "execution_count": null,
   "metadata": {},
   "outputs": [],
   "source": [
    "# data for day of death\n",
    "T = vae_data_main[['ID', 'outcome_death', 'group', 'los']].groupby('ID').max()\n",
    "T = T[T.outcome_death == 1]\n",
    "\n",
    "# Plot death time distribution\n",
    "plt.figure(figsize=(10,5))\n",
    "seaborn_grid = sns.displot(T, x=\"los\", hue=\"group\", element=\"step\")\n",
    "seaborn_grid.fig.set_figwidth(7)\n",
    "plt.grid(linestyle='dotted')\n",
    "plt.ylabel(\"# of deaths\")\n",
    "plt.xlabel('Day in the ICU')\n",
    "plt.tight_layout()\n",
    "plt.savefig('./pictures/deathtime_hist.pdf', dpi=600)"
   ]
  },
  {
   "cell_type": "code",
   "execution_count": null,
   "metadata": {},
   "outputs": [],
   "source": [
    "#Show median death time per group\n",
    "T[['los', 'group']].groupby('group').describe().T"
   ]
  },
  {
   "cell_type": "markdown",
   "metadata": {},
   "source": [
    "# Beat immortal-time bias with Varying-time Cox model"
   ]
  },
  {
   "cell_type": "markdown",
   "metadata": {},
   "source": [
    "### Time Cox for NVA-HARTI"
   ]
  },
  {
   "cell_type": "code",
   "execution_count": null,
   "metadata": {},
   "outputs": [],
   "source": [
    "# Create base df with death\n",
    "base_df = vae_data_main[['ID', 'day_in_icu_max', 'outcome_death',\n",
    "                         'age', 'gender_M', 'disease_type_trauma', 'disease_type_tumor',\n",
    "                          'disease_type_vascular', 'charlson', 'group'\n",
    "                        ]].groupby('ID').max()\n",
    "base_df = base_df.loc[base_df.group.isin(['No HAI', 'NVA-HARTI', 'Dual HARTI']), :]\n",
    "base_df = base_df.drop(['group'], axis=1)\n",
    "base_df = base_df.reset_index()\n",
    "base_df.columns = ['id', 'duration', 'event', 'age', 'gender_M', 'disease_type_trauma', 'disease_type_tumor',\n",
    "                          'disease_type_vascular', 'charlson']\n",
    "base_df = to_long_format(base_df, duration_col=\"duration\")\n",
    "\n",
    "# Create HARTI df\n",
    "event_df = vae_data_main[['ID', 'day_in_icu_bid', 'group']].groupby('ID').max()\n",
    "event_df = event_df.loc[event_df.group.isin(['NVA-HARTI', 'Dual HARTI']), :]\n",
    "event_df = event_df.drop(['group'], axis=1)\n",
    "event_df = event_df.reset_index()\n",
    "event_df.columns = ['id', 'nva-harti']\n",
    "\n",
    "# Add covariates\n",
    "cv = covariates_from_event_matrix(event_df, id_col=\"id\")\n",
    "\n",
    "# Combine base and harti dfs\n",
    "base_df = add_covariate_to_timeline(base_df, cv, duration_col=\"duration\", id_col=\"id\", event_col=\"event\")\n",
    "base_df = base_df.fillna(0)"
   ]
  },
  {
   "cell_type": "code",
   "execution_count": null,
   "metadata": {},
   "outputs": [],
   "source": [
    "# Fit time varying Cox model\n",
    "ctv = CoxTimeVaryingFitter(penalizer=0.1)\n",
    "ctv.fit(base_df, id_col=\"id\", event_col=\"event\", start_col=\"start\", stop_col=\"stop\", show_progress=True)\n",
    "ctv.print_summary()\n",
    "ctv.plot()"
   ]
  },
  {
   "cell_type": "markdown",
   "metadata": {},
   "source": [
    "### Time Cox for VA-HARTI"
   ]
  },
  {
   "cell_type": "code",
   "execution_count": null,
   "metadata": {},
   "outputs": [],
   "source": [
    "# Create base df with death\n",
    "base_df = vae_data_main[['ID', 'day_in_icu_max', 'outcome_death',\n",
    "                         'age', 'gender_M', 'disease_type_trauma', 'disease_type_tumor',\n",
    "                          'disease_type_vascular', 'charlson', 'group'\n",
    "                        ]].groupby('ID').max()\n",
    "base_df = base_df.loc[base_df.group.isin(['No HAI', 'VA-HARTI', 'Dual HARTI']), :]\n",
    "base_df = base_df.drop(['group'], axis=1)\n",
    "base_df = base_df.reset_index()\n",
    "base_df.columns = ['id', 'duration', 'event', 'age', 'gender_M', 'disease_type_trauma', 'disease_type_tumor',\n",
    "                          'disease_type_vascular', 'charlson']\n",
    "base_df = to_long_format(base_df, duration_col=\"duration\")\n",
    "\n",
    "# Create HARTI df\n",
    "event_df = vae_data_main[['ID', 'day_in_icu_bid', 'group']].groupby('ID').max()\n",
    "event_df = event_df.loc[event_df.group.isin(['VA-HARTI', 'Dual HARTI']), :]\n",
    "event_df = event_df.drop(['group'], axis=1)\n",
    "event_df = event_df.reset_index()\n",
    "event_df.columns = ['id', 'vap']\n",
    "\n",
    "# Add covariates\n",
    "cv = covariates_from_event_matrix(event_df, id_col=\"id\")\n",
    "\n",
    "# Combine base and harti dfs\n",
    "base_df = add_covariate_to_timeline(base_df, cv, duration_col=\"duration\", id_col=\"id\", event_col=\"event\")\n",
    "base_df = base_df.fillna(0)"
   ]
  },
  {
   "cell_type": "code",
   "execution_count": null,
   "metadata": {},
   "outputs": [],
   "source": [
    "# Fit time varying Cox model\n",
    "ctv = CoxTimeVaryingFitter(penalizer=0.1)\n",
    "ctv.fit(base_df, id_col=\"id\", event_col=\"event\", start_col=\"start\", stop_col=\"stop\", show_progress=True)\n",
    "ctv.print_summary()\n",
    "ctv.plot()"
   ]
  },
  {
   "cell_type": "markdown",
   "metadata": {},
   "source": [
    "# Survival plot. Competing risk model"
   ]
  },
  {
   "cell_type": "code",
   "execution_count": null,
   "metadata": {},
   "outputs": [],
   "source": [
    "# Select outcome data for ICU admissions and individuals\n",
    "# Group attribution is selected by hierarchy \n",
    "df_admissions = vae_data_main[['los', 'day_in_icu_max', 'ID_subid', 'ID', 'outcome_death', 'date', 'group']]\n",
    "df_admissions = df_admissions.groupby('ID_subid').agg({'los': max, 'day_in_icu_max':max, 'group':max,\n",
    "                                 'date': min, 'ID':max, 'outcome_death':max,})\n",
    "df_admissions.date = df_admissions.date.dt.year\n",
    "\n",
    "df_individuals = df_admissions.copy()\n",
    "df_individuals = df_individuals.groupby('ID').agg({'los': max, 'day_in_icu_max':max, 'group':max,\n",
    "                                 'date': min, 'outcome_death':max,})\n",
    "\n",
    "#Drop Dual HARTI data - not included in the analysis due to small sample size\n",
    "df_admissions = df_admissions.loc[~(df_admissions.group == \"Dual HARTI\")]\n",
    "df_individuals = df_individuals.loc[~(df_individuals.group == \"Dual HARTI\")]\n",
    "\n",
    "# Select IDs for all groups\n",
    "group_ids = {}\n",
    "for group in df_individuals.group.unique():\n",
    "    group_ids[group] = df_individuals[(df_individuals.group == group)].index.unique().tolist()\n"
   ]
  },
  {
   "cell_type": "code",
   "execution_count": null,
   "metadata": {},
   "outputs": [],
   "source": [
    "# Define data\n",
    "LIM=228\n",
    "T = vae_data_main[['ID', 'los']].groupby('ID').max()\n",
    "E = vae_data_main[['ID', 'outcome_death']].groupby('ID').max()\n",
    "T_vap = T.loc[T.index.isin(group_ids['VA-HARTI'])]\n",
    "T_nva = T.loc[T.index.isin(group_ids['NVA-HARTI'])]\n",
    "T_nohai = T.loc[T.index.isin(group_ids['No HAI'])]\n",
    "E = E.replace(0, 2)\n",
    "E_vap = E.loc[E.index.isin(group_ids['VA-HARTI'])]\n",
    "E_nva = E.loc[E.index.isin(group_ids['NVA-HARTI'])]\n",
    "E_nohai = E.loc[E.index.isin(group_ids['No HAI'])]\n",
    "\n",
    "# Plot competing event function\n",
    "colors_sns = ['medium blue', 'orange', 'light red']\n",
    "sns.set_palette(sns.xkcd_palette(colors_sns))\n",
    "fig, ax = plt.subplots(1, 1, figsize=(7,6))\n",
    "cuminc_res_vap = cuminc(T_vap.values.reshape(-1), E_vap.values.reshape(-1).astype('float64'))\n",
    "for name, group in list(cuminc_res_vap.groups.items())[:1]:\n",
    "    ax.plot(group.time, 1-group.est, label=\"a\")\n",
    "    ax.fill_between(group.time, 1-group.low_ci, 1-group.high_ci, alpha=0.2)\n",
    "    \n",
    "cuminc_res_nva = cuminc(T_nva.values.reshape(-1), E_nva.values.reshape(-1).astype('float64'))\n",
    "for name, group in list(cuminc_res_nva.groups.items())[:1]:\n",
    "    ax.plot(group.time, 1-group.est, label=\"f\")\n",
    "    ax.fill_between(group.time, 1-group.low_ci, 1-group.high_ci, alpha=0.2)\n",
    "\n",
    "cuminc_res_nohai = cuminc(T_nohai.values.reshape(-1), E_nohai.values.reshape(-1).astype('float64'))\n",
    "for name, group in list(cuminc_res_nohai.groups.items())[:1]:\n",
    "    ax.plot(group.time, 1-group.est, label=\"f\")\n",
    "    ax.fill_between(group.time, 1-group.low_ci, 1-group.high_ci, alpha=0.2)\n",
    "   \n",
    "ax.set_xlim(0, LIM, 1)\n",
    "ax.grid(linestyle='dotted', which='both', axis='both')\n",
    "ax.minorticks_on()\n",
    "ax.legend(['VA-HARTI', 'NVA-HARTI', 'No HAI'])\n",
    "ax.set_ylabel('Proportion alive')\n",
    "ax.set_xlabel('Day in the hospital')\n",
    "ax.set_title('Survival probability, discharge is treated as a competing event')\n",
    "plt.tight_layout()\n",
    "plt.savefig('./pictures/survival_cmprsk_va-nohai.pdf', dpi=600)"
   ]
  },
  {
   "cell_type": "code",
   "execution_count": null,
   "metadata": {},
   "outputs": [],
   "source": [
    "# Calculate survival difference at fixed point in time\n",
    "tpoint = 52\n",
    "results = survival_difference_at_fixed_point_in_time_test(tpoint, T.loc[T.index.isin(group_ids['No HAI'])],\n",
    "                                                          T.loc[T.index.isin(group_ids['VA-HARTI'])],\n",
    "                                                          event_observed_A=E.loc[E.index.isin(group_ids['No HAI'])],\n",
    "                                                          event_observed_B=E.loc[E.index.isin(group_ids['VA-HARTI'])])\n",
    "results.print_summary()"
   ]
  },
  {
   "cell_type": "markdown",
   "metadata": {},
   "source": [
    "# Logistic regression for mortality\n",
    "### VA-HARTI & Mortality"
   ]
  },
  {
   "cell_type": "code",
   "execution_count": null,
   "metadata": {},
   "outputs": [],
   "source": [
    "##### Select all related factors by data type\n",
    "# Numerical factors\n",
    "FACTORS_numeric = ['age', 'charlson',  # condition on admission\n",
    "           \n",
    "                   'st_all_sum', 'st_craniotomy_len_sum', # surgeries\n",
    "                   'st_device_len_sum', 'st_endonasal_len_sum', 'st_endovascular_len_sum',\n",
    "                   'st_other_len_sum', 'st_spinal_len_sum', 'st_all_len_sum',\n",
    "                   \n",
    "                   'gcs',   # severity of patients condition\n",
    "           \n",
    "                   'mech_vent_days',   'antibiotics_total_binary_days',  # ICU care\n",
    "                   'central_line_days', 'feeding_tube_days', 'arterial_line_days', 'evd_days', 'icpm_days',\n",
    "                   'urinary_catheter_days', 'hypothermia_days', 'hemodialysis_days',\n",
    "                   'total_parenteral_feeding_days', 'sedation_days', 'anxiolytics_days',\n",
    "                   'vasopressors_days',\n",
    "                   'endotracheal_tube_1_days', 'endotracheal_tube_2_days', 'endotracheal_tube_3_days',\n",
    "                   \n",
    "                   'intestinal_dysfunction_days', 'infection_bloodstream_days', # complications\n",
    "                   'infection_other_days', 'infection_urinary_days', 'infection_cns_days', 'infection_ssi_days'\n",
    "                  ]\n",
    "\n",
    "# Binary factors\n",
    "FACTORS_binary = ['gender_M', 'disease_type_trauma', 'disease_type_tumor', # condition on admission\n",
    "                  'disease_type_vascular', 'disease_type_other',\n",
    "                  \n",
    "                  'convulsions', 'aphasia', 'vegetative_state',  # severity of patients condition\n",
    "                  \n",
    "                  'st_device_count', 'st_other_count', 'st_craniotomy_count', 'st_endovascular_count', # surgeries\n",
    "                  'st_endonasal_count', 'st_spinal_count',\n",
    "                  \n",
    "                  'csfl_ne', 'csfl_ss'\n",
    "                 ]\n"
   ]
  },
  {
   "cell_type": "code",
   "execution_count": null,
   "metadata": {},
   "outputs": [],
   "source": [
    "# Replace NaNs in len_ cols by 0\n",
    "len_cols = ['st_craniotomy_len_sum', 'st_device_len_sum', 'st_endonasal_len_sum',\n",
    "            'st_endovascular_len_sum', 'st_other_len_sum', 'st_spinal_len_sum',\n",
    "            'st_all_len_sum', 'st_craniotomy_len_sum_bid', 'st_device_len_sum_bid',\n",
    "            'st_endonasal_len_sum_bid', 'st_endovascular_len_sum_bid', 'st_other_len_sum_bid',\n",
    "            'st_spinal_len_sum_bid', 'st_all_len_sum_bid'\n",
    "           ]\n",
    "\n",
    "for col in len_cols:\n",
    "    vae_data_main[col].replace(np.nan, 0, inplace=True)"
   ]
  },
  {
   "cell_type": "code",
   "execution_count": null,
   "metadata": {},
   "outputs": [],
   "source": [
    "######## Step #1: Univariate analysis for VA-HARTI\n",
    "\n",
    "# Define data\n",
    "data_vap = vae_data_main[(vae_data_main.vap == 1)].groupby('ID_subid').max()\n",
    "data_novap = vae_data_main[(vae_data_main.vap != 1)].groupby('ID_subid').max()\n",
    "\n",
    "# Calculate p-values for continuous and binary variables\n",
    "pvals = {}\n",
    "for factor in FACTORS_numeric:\n",
    "    pvals[factor] = stats.ttest_ind(data_vap[factor].dropna().values, data_novap[factor].dropna().values,\n",
    "                                    equal_var = False).pvalue\n",
    "pvalues = pd.DataFrame({'pvalue': pvals})\n",
    "    \n",
    "pvals = {}\n",
    "for factor in FACTORS_binary:\n",
    "    contigency = pd.crosstab(vae_data_main[['ID_subid', 'vap']].groupby('ID_subid').max()['vap'],\n",
    "                            vae_data_main[['ID_subid', factor]].groupby('ID_subid').max()[factor]>0)\n",
    "    pvals[factor] = chi(contigency)[1]\n",
    "    \n",
    "pvalues = pd.concat([pvalues, pd.DataFrame({'pvalue': pvals})], axis=0)\n",
    "\n",
    "# Adjust p-values for multiple comparison\n",
    "pvalues['adjusted_pvalue'] = pd.Series(multipletests(pvalues.pvalue.dropna().values)[1],\n",
    "                                       index=pvalues.pvalue.dropna().index)\n",
    "pvalues['adjusted_pvalue'] = pvalues['adjusted_pvalue'].apply(lambda x: round(x, 5))\n",
    "print(\"Number of factors, step #1: \", len(pvalues))"
   ]
  },
  {
   "cell_type": "code",
   "execution_count": null,
   "metadata": {},
   "outputs": [],
   "source": [
    "# Step #2: Run first logreg model to find VAP non-predictors\n",
    "# Include only columns that showed significance in univariate analysis\n",
    "\n",
    "COLS = pvalues[(pvalues.adjusted_pvalue < 0.05)].index\n",
    "COLS = COLS.tolist() + ['ID_subid']\n",
    "print(\"Number of factors included in first logreg model: \", len(COLS))\n",
    "\n",
    "# Define data\n",
    "logreg_data = vae_data_main[COLS].groupby('ID_subid').max()\n",
    "y = vae_data_main[['ID_subid', 'vap']].groupby('ID_subid').max().astype(float)\n",
    "X = sm.add_constant(logreg_data.astype(float))\n",
    "\n",
    "# Test predictors for VA-HARTI\n",
    "logit_model = sm.Logit(y, X)\n",
    "result = logit_model.fit_regularized()\n",
    "p = result.summary2().tables[1]['P>|z|']\n",
    "vap_non_predictors = p[p >= 0.05].index.tolist() + ['vap'] + ['ID_subid']\n",
    "print(\"Number of VAP non-predictors: \", len(vap_non_predictors))"
   ]
  },
  {
   "cell_type": "code",
   "execution_count": null,
   "metadata": {},
   "outputs": [],
   "source": [
    "###### Step #3: use VAP non-predictors to fit logreg to select independent risk factors for mortality\n",
    "\n",
    "# Define x and y\n",
    "vap_non_predictors.remove('const') if 'const' in vap_non_predictors else vap_non_predictors\n",
    "logreg_data = vae_data_main[vap_non_predictors].groupby('ID_subid').max()\n",
    "y = vae_data_main[['ID_subid', 'outcome_death']].groupby('ID_subid').max()\n",
    "X = sm.add_constant(logreg_data)\n",
    "\n",
    "# fit model\n",
    "logit_model=sm.Logit(y.astype(float), X.astype(float))\n",
    "result=logit_model.fit_regularized()\n",
    "print(result.summary2())"
   ]
  },
  {
   "cell_type": "code",
   "execution_count": null,
   "metadata": {},
   "outputs": [],
   "source": [
    "odds_vap = result.summary2().tables[1][['Coef.', '[0.025', '0.975]', 'P>|z|']].apply(\n",
    "    {'Coef.': np.exp,\n",
    "     '[0.025': np.exp,\n",
    "     '0.975]': np.exp,\n",
    "     'P>|z|': lambda x: f'{x:.04f}'})\n",
    "odds_vap.columns = ('Odds ratio', 'Lower', 'Upper', 'p_value')\n",
    "\n",
    "# Match column names from json dict\n",
    "f = open(\"./columns_dict.json\")\n",
    "columns_dict = json.load(f)\n",
    "odds_vap.index = odds_vap.index.to_series().map(columns_dict.get)\n",
    "\n",
    "# Save table\n",
    "odds_vap.to_csv('./odds_vap.csv', sep='\\t', encoding='utf-8')\n",
    "\n",
    "odds_vap"
   ]
  },
  {
   "cell_type": "code",
   "execution_count": null,
   "metadata": {},
   "outputs": [],
   "source": [
    "# Show only significant covariates\n",
    "odds_vap.loc[(odds_vap.p_value.astype(float) <= 0.05)]"
   ]
  },
  {
   "cell_type": "markdown",
   "metadata": {},
   "source": [
    "### Test performance of the mortality logreg model; VA-HARTI"
   ]
  },
  {
   "cell_type": "code",
   "execution_count": null,
   "metadata": {},
   "outputs": [],
   "source": [
    "# Split into train and test subsets\n",
    "scaler = StandardScaler()\n",
    "scaler.fit(logreg_data)\n",
    "\n",
    "x_train, x_test, y_train, y_test = \\\n",
    "    train_test_split(logreg_data, \n",
    "                     y, test_size=0.2, random_state=0)\n",
    "\n",
    "x_train = scaler.transform(x_train)\n",
    "x_test = scaler.transform(x_test)\n",
    "\n",
    "# Fit logreg model\n",
    "model = LogisticRegression(solver='lbfgs', C=10, random_state=0, class_weight='balanced')\n",
    "model.fit(x_train, y_train.values.reshape(-1))\n",
    "\n",
    "print(\"Accuracy on train set; mortality model: \", model.score(x_train, y_train))\n",
    "print(\"Accuracy of test set; mortality model: \", model.score(x_test, y_test))\n",
    "y_pred = model.predict(x_test)\n",
    "y_pred_proba = model.predict_proba(x_test)\n",
    "print(\"F1 score; VAP~mortality model: \", f1_score(y_test, y_pred))\n",
    "print('ROC-AUC score, VAP~mortality model: ', roc_auc_score(y_test, y_pred))"
   ]
  },
  {
   "cell_type": "code",
   "execution_count": null,
   "metadata": {},
   "outputs": [],
   "source": [
    "# Show full report\n",
    "print(classification_report(y_test, y_pred))\n",
    "\n",
    "# Print coefficients\n",
    "thetas = {v: k for k,v in zip(model.coef_.reshape(-1), logreg_data.columns.values.reshape(-1))}\n",
    "thetas"
   ]
  },
  {
   "cell_type": "markdown",
   "metadata": {},
   "source": [
    "## NVA-HARTI & Mortality"
   ]
  },
  {
   "cell_type": "code",
   "execution_count": null,
   "metadata": {},
   "outputs": [],
   "source": [
    "######## Step #1: Univariate analysis for NVA-HARTI\n",
    "\n",
    "# Define data\n",
    "data_nva = vae_data_main[(vae_data_main.non_vap_resp_hai == 1)].groupby('ID_subid').max()\n",
    "data_nonva = vae_data_main[(vae_data_main.non_vap_resp_hai != 1)].groupby('ID_subid').max()\n",
    "\n",
    "# Calculate p-values for continuous and binary variables\n",
    "pvals = {}\n",
    "for factor in FACTORS_numeric:\n",
    "    pvals[factor] = stats.ttest_ind(data_nva[factor].values, data_nonva[factor].values,\n",
    "                          equal_var = False).pvalue\n",
    "pvalues = pd.DataFrame({'pvalue': pvals})\n",
    "    \n",
    "pvals = {}\n",
    "for factor in FACTORS_binary:\n",
    "    contigency = pd.crosstab(vae_data_main[['ID_subid', 'non_vap_resp_hai']].groupby('ID_subid').max()['non_vap_resp_hai'],\n",
    "                            vae_data_main[['ID_subid', factor]].groupby('ID_subid').max()[factor]>0)\n",
    "    pvals[factor] = chi(contigency)[1]\n",
    "    \n",
    "pvalues = pd.concat([pvalues, pd.DataFrame({'pvalue': pvals})], axis=0)\n",
    "\n",
    "# Adjust p-values for multiple comparison\n",
    "pvalues['adjusted_pvalue'] = pd.Series(multipletests(pvalues.pvalue.dropna().values)[1],\n",
    "                                       index=pvalues.pvalue.dropna().index)\n",
    "pvalues['adjusted_pvalue'] = pvalues['adjusted_pvalue'].apply(lambda x: round(x, 5))\n",
    "print(\"Number of factors, step #1: \", len(pvalues))\n"
   ]
  },
  {
   "cell_type": "code",
   "execution_count": null,
   "metadata": {},
   "outputs": [],
   "source": [
    "# Step #2: Run first logreg model to find VAP non-predictors\n",
    "# Include only columns that showed significance in univariate analysis\n",
    "\n",
    "COLS = pvalues[(pvalues.adjusted_pvalue < 0.05)].index\n",
    "COLS = COLS.tolist() + ['ID_subid']\n",
    "print(\"Number of factors included in first logreg model: \", len(COLS))\n",
    "\n",
    "# Define data\n",
    "logreg_data = vae_data_main[COLS].groupby('ID_subid').max()\n",
    "y = vae_data_main[['ID_subid', 'vap']].groupby('ID_subid').max().astype(float)\n",
    "X = sm.add_constant(logreg_data.astype(float))\n",
    "\n",
    "# Test predictors for NVA-HARTI\n",
    "logit_model = sm.Logit(y, X)\n",
    "result = logit_model.fit_regularized()\n",
    "p = result.summary2().tables[1]['P>|z|']\n",
    "nva_non_predictors = p[p >= 0.05].index.tolist() + ['non_vap_resp_hai'] + ['ID_subid']\n",
    "print(\"Number of VAP non-predictors: \", len(nva_non_predictors))"
   ]
  },
  {
   "cell_type": "code",
   "execution_count": null,
   "metadata": {},
   "outputs": [],
   "source": [
    "#### Step #3: use VAP non-predictors to fit logreg to select independent risk factors for mortality\n",
    "\n",
    "# Define x and y\n",
    "nva_non_predictors.remove('const') if 'const' in nva_non_predictors else nva_non_predictors\n",
    "logreg_data = vae_data_main[nva_non_predictors].groupby('ID_subid').max()\n",
    "y = vae_data_main[['ID_subid', 'outcome_death']].groupby('ID_subid').max()\n",
    "X = sm.add_constant(logreg_data)\n",
    "\n",
    "# fit model\n",
    "logit_model=sm.Logit(y.astype(float), X.astype(float))\n",
    "result=logit_model.fit_regularized()\n",
    "print(result.summary2())"
   ]
  },
  {
   "cell_type": "code",
   "execution_count": null,
   "metadata": {},
   "outputs": [],
   "source": [
    "odds_nva = result.summary2().tables[1][['Coef.', '[0.025', '0.975]', 'P>|z|']].apply(\n",
    "    {'Coef.': np.exp,\n",
    "     '[0.025': np.exp,\n",
    "     '0.975]': np.exp,\n",
    "     'P>|z|': lambda x: f'{x:.04f}'})\n",
    "odds_nva.columns = ('Odds ratio', 'Lower', 'Upper', 'p_value')\n",
    "odds_nva\n",
    "\n",
    "# Match column names from json dict\n",
    "f = open(\"./columns_dict.json\")\n",
    "columns_dict = json.load(f)\n",
    "odds_nva.index = odds_nva.index.to_series().map(columns_dict.get)\n",
    "\n",
    "# Save table\n",
    "odds_nva.to_csv('./odds_nva.csv', sep='\\t', encoding='utf-8')\n",
    "\n",
    "odds_nva"
   ]
  },
  {
   "cell_type": "code",
   "execution_count": null,
   "metadata": {},
   "outputs": [],
   "source": [
    "# Show only significant covariates\n",
    "odds_nva.loc[(odds_nva.p_value.astype(float) <= 0.05)]"
   ]
  },
  {
   "cell_type": "markdown",
   "metadata": {},
   "source": [
    "### Test performance of the mortality logreg model; NVA-HARTI"
   ]
  },
  {
   "cell_type": "code",
   "execution_count": null,
   "metadata": {},
   "outputs": [],
   "source": [
    "# Split into train and test subsets\n",
    "scaler = StandardScaler()\n",
    "scaler.fit(logreg_data)\n",
    "\n",
    "x_train, x_test, y_train, y_test = \\\n",
    "    train_test_split(logreg_data, \n",
    "                     y, test_size=0.2, random_state=0)\n",
    "\n",
    "x_train = scaler.transform(x_train)\n",
    "x_test = scaler.transform(x_test)\n",
    "\n",
    "# Fit logreg model\n",
    "model = LogisticRegression(solver='lbfgs', C=10, random_state=0, class_weight='balanced')\n",
    "model.fit(x_train, y_train.values.reshape(-1))\n",
    "\n",
    "print(\"Accuracy on train set; mortality model: \", model.score(x_train, y_train))\n",
    "print(\"Accuracy of test set; mortality model: \", model.score(x_test, y_test))\n",
    "y_pred = model.predict(x_test)\n",
    "y_pred_proba = model.predict_proba(x_test)\n",
    "print(\"F1 score; NVA~mortality model: \", f1_score(y_test, y_pred))\n",
    "print('ROC-AUC score, NVA~mortality model: ', roc_auc_score(y_test, y_pred))"
   ]
  },
  {
   "cell_type": "code",
   "execution_count": null,
   "metadata": {},
   "outputs": [],
   "source": [
    "# Show full report\n",
    "print(classification_report(y_test, y_pred))\n",
    "\n",
    "# Print coefficients\n",
    "thetas = {v: k for k,v in zip(model.coef_.reshape(-1), logreg_data.columns.values.reshape(-1))}\n",
    "thetas"
   ]
  },
  {
   "cell_type": "markdown",
   "metadata": {},
   "source": [
    "______"
   ]
  },
  {
   "cell_type": "markdown",
   "metadata": {},
   "source": [
    "# Survival curve. Kaplan-Meier model - wrong model!!"
   ]
  },
  {
   "cell_type": "code",
   "execution_count": null,
   "metadata": {},
   "outputs": [],
   "source": [
    "###### Plot Kaplan-Meier for 3 groups (VA-HARTI vs. NVA-HARTI vs. No HAI)\n",
    "T = vae_data_main[['ID', 'los']].groupby('ID').max()\n",
    "E = vae_data_main[['ID', 'outcome_death']].groupby('ID').max()\n",
    "\n",
    "# fit the Kaplan-Meier with the subset of data from the class\n",
    "LIM = 365\n",
    "colors_sns = ['medium blue', 'orange', 'light red']\n",
    "sns.set_palette(sns.xkcd_palette(colors_sns))\n",
    "fig, ax = plt.subplots(1, figsize=(9, 7))\n",
    "\n",
    "kmf_vap = KaplanMeierFitter()\n",
    "kmf_vap.fit(T.loc[T.index.isin(group_ids['VA-HARTI'])],\n",
    "          E.loc[E.index.isin(group_ids['VA-HARTI'])], timeline=range(0, LIM, 2), label=\"VA-HARTI\")\n",
    "kmf_vap.plot(ax=ax)\n",
    "\n",
    "kmf_nva = KaplanMeierFitter()\n",
    "kmf_nva.fit(T.loc[T.index.isin(group_ids['NVA-HARTI'])],\n",
    "            E.loc[E.index.isin(group_ids['NVA-HARTI'])], timeline=range(0, LIM, 2), label=\"NVA-HARTI\")\n",
    "kmf_nva.plot(ax=ax)\n",
    "\n",
    "kmf_nohai = KaplanMeierFitter()\n",
    "kmf_nohai.fit(T.loc[T.index.isin(group_ids['No HAI'])],\n",
    "              E.loc[E.index.isin(group_ids['No HAI'])], timeline=range(0, LIM, 2), label=\"No HAI\")\n",
    "kmf_nohai.plot(ax=ax)\n",
    "\n",
    "ax.set_title('Survival probability in VA-HARTI vs No HAI patients in 2011-2018')\n",
    "ax.set_ylabel('Proportion alive')\n",
    "ax.grid(linestyle='dotted')\n",
    "\n",
    "add_at_risk_counts(kmf_vap, kmf_nva, kmf_nohai, ax=ax)\n",
    "plt.tight_layout()\n",
    "plt.savefig('./pictures/survival_km_va-nohai.pdf', dpi=600)"
   ]
  },
  {
   "cell_type": "code",
   "execution_count": null,
   "metadata": {},
   "outputs": [],
   "source": [
    "time_limit = 365\n",
    "rmst_1 = restricted_mean_survival_time(kmf_nohai, t=time_limit, return_variance=True)\n",
    "rmst_4 = restricted_mean_survival_time(kmf_vap, t=time_limit, return_variance=True)\n",
    "print('RMST No HAI', rmst_1[0])\n",
    "print('RMST VA-HARTI', rmst_4[0])\n",
    "print('STD No HAI: ', np.sqrt(rmst_1[1]))\n",
    "print('STD VA-HARTI: ', np.sqrt(rmst_4[1]))"
   ]
  },
  {
   "cell_type": "markdown",
   "metadata": {},
   "source": [
    "_____"
   ]
  }
 ],
 "metadata": {
  "kernelspec": {
   "display_name": "Python 3",
   "language": "python",
   "name": "python3"
  },
  "language_info": {
   "codemirror_mode": {
    "name": "ipython",
    "version": 3
   },
   "file_extension": ".py",
   "mimetype": "text/x-python",
   "name": "python",
   "nbconvert_exporter": "python",
   "pygments_lexer": "ipython3",
   "version": "3.7.4"
  }
 },
 "nbformat": 4,
 "nbformat_minor": 2
}
